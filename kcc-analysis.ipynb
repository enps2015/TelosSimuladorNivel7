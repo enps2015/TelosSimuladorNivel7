{
    "metadata": {
        "kernelspec": {
            "name": "SQL",
            "display_name": "SQL",
            "language": "sql"
        },
        "language_info": {
            "name": "sql",
            "version": ""
        }
    },
    "nbformat_minor": 2,
    "nbformat": 4,
    "cells": [
        {
            "cell_type": "markdown",
            "source": [
                "## **Contextualização e Escopo do Projeto**\n",
                "\n",
                "### **Contexto**\n",
                "\n",
                "A **Kevin Cookie Company (KCC)** deseja melhorar suas vendas utilizando análises de dados baseadas no seu banco de dados SQL. Seu papel como consultor é:\n",
                "\n",
                "1. Extrair e processar os dados para entender o desempenho atual da empresa.\n",
                "2. Fornecer insights claros e responder às perguntas de negócio.\n",
                "3. Apresentar um relatório interativo com gráficos e recomendações.\n",
                "\n",
                "### **Objetivo do Projeto**\n",
                "\n",
                "Responder às seguintes perguntas de negócio usando **Python**, **SQL**, e bibliotecas gráficas modernas:\n",
                "\n",
                "1. **Clientes**:\n",
                "    \n",
                "    - Quem são os **3 melhores clientes** da empresa?\n",
                "    - Por que eles são os melhores? Como fidelizá-los e aumentar suas compras?\n",
                "2. **Produtos**:\n",
                "    \n",
                "    - Quais são os **melhores** e **piores produtos**?\n",
                "    - Quais **novos sabores** podem substituir os piores produtos?\n",
                "3. **Sazonalidade**:\n",
                "    \n",
                "    - Existe **sazonalidade** nas vendas?\n",
                "    - Qual campanha de marketing pode ser criada para aproveitar essa sazonalidade?\n",
                "4. **Preço**:\n",
                "    \n",
                "\n",
                "- Quais **produtos devem aumentar de preço**?\n",
                "- Qual o impacto esperado nos ganhos com o novo preço?\n",
                "\n",
                "## **Análise Prévia do Banco de Dados**\n",
                "\n",
                "### **Tabelas**\n",
                "\n",
                "- **Customers**: Informações dos clientes (nome, endereço, etc.).\n",
                "- **Orders**: Detalhes dos pedidos realizados.\n",
                "- **Order\\_Product**: Relação entre pedidos e produtos (quantidade, valores).\n",
                "- **Product**: Informações dos produtos (nome, preço, etc.).\n",
                "\n",
                "### **Relacionamentos**\n",
                "\n",
                "- A tabela **Orders** é relacionada com:\n",
                "    - **Customers** (clientes que fizeram pedidos).\n",
                "    - **Order\\_Product** (itens de cada pedido).\n",
                "    - **Product** (detalhes dos produtos vendidos)."
            ],
            "metadata": {
                "azdata_cell_guid": "a0e2e2b8-fe33-4077-b0b4-34f2d4649620"
            },
            "attachments": {}
        },
        {
            "cell_type": "markdown",
            "source": [
                "### **Análise Exploratória**"
            ],
            "metadata": {
                "azdata_cell_guid": "cf3405d0-6982-4ddb-8fce-d1e505c0d50b"
            },
            "attachments": {}
        },
        {
            "cell_type": "code",
            "source": [
                "-- listando todas as tabelas\n",
                "SELECT TABLE_NAME \n",
                "FROM KCC.INFORMATION_SCHEMA.TABLES\n",
                "WHERE TABLE_TYPE = 'BASE TABLE';\n",
                ""
            ],
            "metadata": {
                "azdata_cell_guid": "c00e6dbf-5070-4b46-842c-e32443d0a971",
                "language": "sql"
            },
            "outputs": [
                {
                    "output_type": "display_data",
                    "data": {
                        "text/html": "(5 rows affected)"
                    },
                    "metadata": {}
                },
                {
                    "output_type": "display_data",
                    "data": {
                        "text/html": "Total execution time: 00:00:00.012"
                    },
                    "metadata": {}
                },
                {
                    "output_type": "execute_result",
                    "execution_count": 4,
                    "data": {
                        "application/vnd.dataresource+json": {
                            "schema": {
                                "fields": [
                                    {
                                        "name": "TABLE_NAME"
                                    }
                                ]
                            },
                            "data": [
                                {
                                    "TABLE_NAME": "sysdiagrams"
                                },
                                {
                                    "TABLE_NAME": "Orders"
                                },
                                {
                                    "TABLE_NAME": "Product"
                                },
                                {
                                    "TABLE_NAME": "Order_Product"
                                },
                                {
                                    "TABLE_NAME": "Customers"
                                }
                            ]
                        },
                        "text/html": "<table><tr><th>TABLE_NAME</th></tr><tr><td>sysdiagrams</td></tr><tr><td>Orders</td></tr><tr><td>Product</td></tr><tr><td>Order_Product</td></tr><tr><td>Customers</td></tr></table>"
                    },
                    "metadata": {}
                }
            ],
            "execution_count": 4
        },
        {
            "cell_type": "code",
            "source": [
                "-- Listando as colunas de todas as tabelas\n",
                "SELECT TABLE_NAME, COLUMN_NAME, DATA_TYPE\n",
                "FROM KCC.INFORMATION_SCHEMA.COLUMNS;\n",
                ""
            ],
            "metadata": {
                "azdata_cell_guid": "66dfdfa3-f8e3-4382-902d-7d897374159c",
                "language": "sql"
            },
            "outputs": [
                {
                    "output_type": "display_data",
                    "data": {
                        "text/html": "(25 rows affected)"
                    },
                    "metadata": {}
                },
                {
                    "output_type": "display_data",
                    "data": {
                        "text/html": "Total execution time: 00:00:00.027"
                    },
                    "metadata": {}
                },
                {
                    "output_type": "execute_result",
                    "execution_count": 5,
                    "data": {
                        "application/vnd.dataresource+json": {
                            "schema": {
                                "fields": [
                                    {
                                        "name": "TABLE_NAME"
                                    },
                                    {
                                        "name": "COLUMN_NAME"
                                    },
                                    {
                                        "name": "DATA_TYPE"
                                    }
                                ]
                            },
                            "data": [
                                {
                                    "TABLE_NAME": "sysdiagrams",
                                    "COLUMN_NAME": "name",
                                    "DATA_TYPE": "nvarchar"
                                },
                                {
                                    "TABLE_NAME": "sysdiagrams",
                                    "COLUMN_NAME": "principal_id",
                                    "DATA_TYPE": "int"
                                },
                                {
                                    "TABLE_NAME": "sysdiagrams",
                                    "COLUMN_NAME": "diagram_id",
                                    "DATA_TYPE": "int"
                                },
                                {
                                    "TABLE_NAME": "sysdiagrams",
                                    "COLUMN_NAME": "version",
                                    "DATA_TYPE": "int"
                                },
                                {
                                    "TABLE_NAME": "sysdiagrams",
                                    "COLUMN_NAME": "definition",
                                    "DATA_TYPE": "varbinary"
                                },
                                {
                                    "TABLE_NAME": "Orders",
                                    "COLUMN_NAME": "OrderID",
                                    "DATA_TYPE": "int"
                                },
                                {
                                    "TABLE_NAME": "Orders",
                                    "COLUMN_NAME": "OrderDate",
                                    "DATA_TYPE": "date"
                                },
                                {
                                    "TABLE_NAME": "Orders",
                                    "COLUMN_NAME": "CustomerID",
                                    "DATA_TYPE": "int"
                                },
                                {
                                    "TABLE_NAME": "Orders",
                                    "COLUMN_NAME": "OrderTotal",
                                    "DATA_TYPE": "money"
                                },
                                {
                                    "TABLE_NAME": "Product",
                                    "COLUMN_NAME": "CookieID",
                                    "DATA_TYPE": "int"
                                },
                                {
                                    "TABLE_NAME": "Product",
                                    "COLUMN_NAME": "CookieName",
                                    "DATA_TYPE": "nvarchar"
                                },
                                {
                                    "TABLE_NAME": "Product",
                                    "COLUMN_NAME": "RevenuePerCookie",
                                    "DATA_TYPE": "money"
                                },
                                {
                                    "TABLE_NAME": "Product",
                                    "COLUMN_NAME": "CostPerCookie",
                                    "DATA_TYPE": "money"
                                },
                                {
                                    "TABLE_NAME": "Order_Product",
                                    "COLUMN_NAME": "OrderID",
                                    "DATA_TYPE": "int"
                                },
                                {
                                    "TABLE_NAME": "Order_Product",
                                    "COLUMN_NAME": "CookieID",
                                    "DATA_TYPE": "int"
                                },
                                {
                                    "TABLE_NAME": "Order_Product",
                                    "COLUMN_NAME": "Quantity",
                                    "DATA_TYPE": "int"
                                },
                                {
                                    "TABLE_NAME": "Customers",
                                    "COLUMN_NAME": "CustomerID",
                                    "DATA_TYPE": "int"
                                },
                                {
                                    "TABLE_NAME": "Customers",
                                    "COLUMN_NAME": "CustomerName",
                                    "DATA_TYPE": "nvarchar"
                                },
                                {
                                    "TABLE_NAME": "Customers",
                                    "COLUMN_NAME": "Phone",
                                    "DATA_TYPE": "nvarchar"
                                },
                                {
                                    "TABLE_NAME": "Customers",
                                    "COLUMN_NAME": "Address",
                                    "DATA_TYPE": "nvarchar"
                                },
                                {
                                    "TABLE_NAME": "Customers",
                                    "COLUMN_NAME": "City",
                                    "DATA_TYPE": "nvarchar"
                                },
                                {
                                    "TABLE_NAME": "Customers",
                                    "COLUMN_NAME": "State",
                                    "DATA_TYPE": "nvarchar"
                                },
                                {
                                    "TABLE_NAME": "Customers",
                                    "COLUMN_NAME": "Zip",
                                    "DATA_TYPE": "nvarchar"
                                },
                                {
                                    "TABLE_NAME": "Customers",
                                    "COLUMN_NAME": "Country",
                                    "DATA_TYPE": "nvarchar"
                                },
                                {
                                    "TABLE_NAME": "Customers",
                                    "COLUMN_NAME": "Notes",
                                    "DATA_TYPE": "nvarchar"
                                }
                            ]
                        },
                        "text/html": "<table><tr><th>TABLE_NAME</th><th>COLUMN_NAME</th><th>DATA_TYPE</th></tr><tr><td>sysdiagrams</td><td>name</td><td>nvarchar</td></tr><tr><td>sysdiagrams</td><td>principal_id</td><td>int</td></tr><tr><td>sysdiagrams</td><td>diagram_id</td><td>int</td></tr><tr><td>sysdiagrams</td><td>version</td><td>int</td></tr><tr><td>sysdiagrams</td><td>definition</td><td>varbinary</td></tr><tr><td>Orders</td><td>OrderID</td><td>int</td></tr><tr><td>Orders</td><td>OrderDate</td><td>date</td></tr><tr><td>Orders</td><td>CustomerID</td><td>int</td></tr><tr><td>Orders</td><td>OrderTotal</td><td>money</td></tr><tr><td>Product</td><td>CookieID</td><td>int</td></tr><tr><td>Product</td><td>CookieName</td><td>nvarchar</td></tr><tr><td>Product</td><td>RevenuePerCookie</td><td>money</td></tr><tr><td>Product</td><td>CostPerCookie</td><td>money</td></tr><tr><td>Order_Product</td><td>OrderID</td><td>int</td></tr><tr><td>Order_Product</td><td>CookieID</td><td>int</td></tr><tr><td>Order_Product</td><td>Quantity</td><td>int</td></tr><tr><td>Customers</td><td>CustomerID</td><td>int</td></tr><tr><td>Customers</td><td>CustomerName</td><td>nvarchar</td></tr><tr><td>Customers</td><td>Phone</td><td>nvarchar</td></tr><tr><td>Customers</td><td>Address</td><td>nvarchar</td></tr><tr><td>Customers</td><td>City</td><td>nvarchar</td></tr><tr><td>Customers</td><td>State</td><td>nvarchar</td></tr><tr><td>Customers</td><td>Zip</td><td>nvarchar</td></tr><tr><td>Customers</td><td>Country</td><td>nvarchar</td></tr><tr><td>Customers</td><td>Notes</td><td>nvarchar</td></tr></table>"
                    },
                    "metadata": {}
                }
            ],
            "execution_count": 5
        },
        {
            "cell_type": "code",
            "source": [
                "--Contando o número de registros em cada tabela\n",
                "SELECT 'Customers' AS TableName, COUNT(*) AS TotalRecords FROM KCC.dbo.Customers\n",
                "UNION ALL\n",
                "SELECT 'Orders', COUNT(*) FROM KCC.dbo.Orders\n",
                "UNION ALL\n",
                "SELECT 'Order_Product', COUNT(*) FROM KCC.dbo.Order_Product\n",
                "UNION ALL\n",
                "SELECT 'Product', COUNT(*) FROM KCC.dbo.Product;\n",
                ""
            ],
            "metadata": {
                "azdata_cell_guid": "f7711a24-daf9-488a-b205-c9b0247ffaf2",
                "language": "sql"
            },
            "outputs": [
                {
                    "output_type": "display_data",
                    "data": {
                        "text/html": "(4 rows affected)"
                    },
                    "metadata": {}
                },
                {
                    "output_type": "display_data",
                    "data": {
                        "text/html": "Total execution time: 00:00:00.015"
                    },
                    "metadata": {}
                },
                {
                    "output_type": "execute_result",
                    "execution_count": 6,
                    "data": {
                        "application/vnd.dataresource+json": {
                            "schema": {
                                "fields": [
                                    {
                                        "name": "TableName"
                                    },
                                    {
                                        "name": "TotalRecords"
                                    }
                                ]
                            },
                            "data": [
                                {
                                    "TableName": "Customers",
                                    "TotalRecords": "6"
                                },
                                {
                                    "TableName": "Orders",
                                    "TotalRecords": "50"
                                },
                                {
                                    "TableName": "Order_Product",
                                    "TotalRecords": "131"
                                },
                                {
                                    "TableName": "Product",
                                    "TotalRecords": "6"
                                }
                            ]
                        },
                        "text/html": "<table><tr><th>TableName</th><th>TotalRecords</th></tr><tr><td>Customers</td><td>6</td></tr><tr><td>Orders</td><td>50</td></tr><tr><td>Order_Product</td><td>131</td></tr><tr><td>Product</td><td>6</td></tr></table>"
                    },
                    "metadata": {}
                }
            ],
            "execution_count": 6
        },
        {
            "cell_type": "code",
            "source": [
                "--Analisando a tabela Custumers\n",
                "SELECT * FROM KCC.dbo.Customers;\n",
                ""
            ],
            "metadata": {
                "azdata_cell_guid": "4e43e8c7-e7c9-42fd-88cf-a668a4d133fc",
                "language": "sql"
            },
            "outputs": [
                {
                    "output_type": "display_data",
                    "data": {
                        "text/html": "(6 rows affected)"
                    },
                    "metadata": {}
                },
                {
                    "output_type": "display_data",
                    "data": {
                        "text/html": "Total execution time: 00:00:00.003"
                    },
                    "metadata": {}
                },
                {
                    "output_type": "execute_result",
                    "execution_count": 7,
                    "data": {
                        "application/vnd.dataresource+json": {
                            "schema": {
                                "fields": [
                                    {
                                        "name": "CustomerID"
                                    },
                                    {
                                        "name": "CustomerName"
                                    },
                                    {
                                        "name": "Phone"
                                    },
                                    {
                                        "name": "Address"
                                    },
                                    {
                                        "name": "City"
                                    },
                                    {
                                        "name": "State"
                                    },
                                    {
                                        "name": "Zip"
                                    },
                                    {
                                        "name": "Country"
                                    },
                                    {
                                        "name": "Notes"
                                    }
                                ]
                            },
                            "data": [
                                {
                                    "CustomerID": "1",
                                    "CustomerName": "Tres Delicious",
                                    "Phone": "999-999-9999",
                                    "Address": "123 Main Street",
                                    "City": "Seattle",
                                    "State": "WA",
                                    "Zip": "98112",
                                    "Country": "United States",
                                    "Notes": "High maintenance, not sure if it's worth having them as a customer, but don't tell them that!"
                                },
                                {
                                    "CustomerID": "2",
                                    "CustomerName": "ABC Groceries",
                                    "Phone": "801-583-8695",
                                    "Address": "3215 Tori Lane",
                                    "City": "Salt Lake City",
                                    "State": "UT",
                                    "Zip": "84113",
                                    "Country": "United States",
                                    "Notes": "Friendly but a little old school. Talks way too much, set a time limit on calls."
                                },
                                {
                                    "CustomerID": "3",
                                    "CustomerName": "ACME Bites",
                                    "Phone": "920-419-6270",
                                    "Address": "4660 Sycamore Lake Road",
                                    "City": "Green Bay",
                                    "State": "WI",
                                    "Zip": "54303",
                                    "Country": "United States",
                                    "Notes": "One of our best customers! Likes to talk about roses. Make sure to read all about roses on Wikipedia before meeting."
                                },
                                {
                                    "CustomerID": "4",
                                    "CustomerName": "Wholesome Foods",
                                    "Phone": "347-789-7688",
                                    "Address": "1521 Redbud Drive",
                                    "City": "Huntington",
                                    "State": "NY",
                                    "Zip": "11743",
                                    "Country": "United States",
                                    "Notes": "CEO has three kids, first one is Charles, don't know the rest. CEO cares about Charles the most, so all good."
                                },
                                {
                                    "CustomerID": "5",
                                    "CustomerName": "Park & Shop Convenience Stores",
                                    "Phone": "251-655-2909",
                                    "Address": "2217 Lonely Oak Drive",
                                    "City": "Mobile",
                                    "State": "AL",
                                    "Zip": "36602",
                                    "Country": "United States",
                                    "Notes": "New customer, make sure to please them! Very frugal, so reinforce how delicious AND inexpensive our cookies are."
                                },
                                {
                                    "CustomerID": "6",
                                    "CustomerName": "Tres Delicious",
                                    "Phone": "999-999-9999",
                                    "Address": "12 Cité Dupetit-Thouars",
                                    "City": "Paris",
                                    "State": "",
                                    "Zip": "75003",
                                    "Country": "France",
                                    "Notes": "East Coast HQ."
                                }
                            ]
                        },
                        "text/html": "<table><tr><th>CustomerID</th><th>CustomerName</th><th>Phone</th><th>Address</th><th>City</th><th>State</th><th>Zip</th><th>Country</th><th>Notes</th></tr><tr><td>1</td><td>Tres Delicious</td><td>999-999-9999</td><td>123 Main Street</td><td>Seattle</td><td>WA</td><td>98112</td><td>United States</td><td>High maintenance, not sure if it&#39;s worth having them as a customer, but don&#39;t tell them that!</td></tr><tr><td>2</td><td>ABC Groceries</td><td>801-583-8695</td><td>3215 Tori Lane</td><td>Salt Lake City</td><td>UT</td><td>84113</td><td>United States</td><td>Friendly but a little old school. Talks way too much, set a time limit on calls.</td></tr><tr><td>3</td><td>ACME Bites</td><td>920-419-6270</td><td>4660 Sycamore Lake Road</td><td>Green Bay</td><td>WI</td><td>54303</td><td>United States</td><td>One of our best customers! Likes to talk about roses. Make sure to read all about roses on Wikipedia before meeting.</td></tr><tr><td>4</td><td>Wholesome Foods</td><td>347-789-7688</td><td>1521 Redbud Drive</td><td>Huntington</td><td>NY</td><td>11743</td><td>United States</td><td>CEO has three kids, first one is Charles, don&#39;t know the rest. CEO cares about Charles the most, so all good.</td></tr><tr><td>5</td><td>Park &amp; Shop Convenience Stores</td><td>251-655-2909</td><td>2217 Lonely Oak Drive</td><td>Mobile</td><td>AL</td><td>36602</td><td>United States</td><td>New customer, make sure to please them! Very frugal, so reinforce how delicious AND inexpensive our cookies are.</td></tr><tr><td>6</td><td>Tres Delicious</td><td>999-999-9999</td><td>12 Cité Dupetit-Thouars</td><td>Paris</td><td></td><td>75003</td><td>France</td><td>East Coast HQ.</td></tr></table>"
                    },
                    "metadata": {}
                }
            ],
            "execution_count": 7
        },
        {
            "cell_type": "code",
            "source": [
                "--Analisando as cidades, estados e países distintos da tabela Customers\n",
                "SELECT \n",
                "    DISTINCT City, \n",
                "    State, \n",
                "    Country\n",
                "FROM \n",
                "    KCC.dbo.Customers\n",
                "ORDER BY \n",
                "    Country, State, City;\n",
                ""
            ],
            "metadata": {
                "language": "sql",
                "azdata_cell_guid": "1d532701-2016-40f0-a6e2-9c827a26a647"
            },
            "outputs": [
                {
                    "output_type": "display_data",
                    "data": {
                        "text/html": "(6 rows affected)"
                    },
                    "metadata": {}
                },
                {
                    "output_type": "display_data",
                    "data": {
                        "text/html": "Total execution time: 00:00:00.003"
                    },
                    "metadata": {}
                },
                {
                    "output_type": "execute_result",
                    "execution_count": 8,
                    "data": {
                        "application/vnd.dataresource+json": {
                            "schema": {
                                "fields": [
                                    {
                                        "name": "City"
                                    },
                                    {
                                        "name": "State"
                                    },
                                    {
                                        "name": "Country"
                                    }
                                ]
                            },
                            "data": [
                                {
                                    "City": "Paris",
                                    "State": "",
                                    "Country": "France"
                                },
                                {
                                    "City": "Mobile",
                                    "State": "AL",
                                    "Country": "United States"
                                },
                                {
                                    "City": "Huntington",
                                    "State": "NY",
                                    "Country": "United States"
                                },
                                {
                                    "City": "Salt Lake City",
                                    "State": "UT",
                                    "Country": "United States"
                                },
                                {
                                    "City": "Seattle",
                                    "State": "WA",
                                    "Country": "United States"
                                },
                                {
                                    "City": "Green Bay",
                                    "State": "WI",
                                    "Country": "United States"
                                }
                            ]
                        },
                        "text/html": "<table><tr><th>City</th><th>State</th><th>Country</th></tr><tr><td>Paris</td><td></td><td>France</td></tr><tr><td>Mobile</td><td>AL</td><td>United States</td></tr><tr><td>Huntington</td><td>NY</td><td>United States</td></tr><tr><td>Salt Lake City</td><td>UT</td><td>United States</td></tr><tr><td>Seattle</td><td>WA</td><td>United States</td></tr><tr><td>Green Bay</td><td>WI</td><td>United States</td></tr></table>"
                    },
                    "metadata": {}
                }
            ],
            "execution_count": 8
        },
        {
            "cell_type": "code",
            "source": [
                ""
            ],
            "metadata": {
                "azdata_cell_guid": "6901e781-78da-4760-9179-cf8c855c19f5",
                "language": "sql"
            },
            "outputs": [],
            "execution_count": null
        },
        {
            "cell_type": "code",
            "source": [
                "--Analisando a tabela Orders\n",
                "SELECT * FROM KCC.dbo.Orders;;"
            ],
            "metadata": {
                "azdata_cell_guid": "cddb0274-e307-4887-8314-f8c8c46ac2e8",
                "language": "sql",
                "tags": []
            },
            "outputs": [
                {
                    "output_type": "display_data",
                    "data": {
                        "text/html": "(50 rows affected)"
                    },
                    "metadata": {}
                },
                {
                    "output_type": "display_data",
                    "data": {
                        "text/html": "Total execution time: 00:00:00.012"
                    },
                    "metadata": {}
                },
                {
                    "output_type": "execute_result",
                    "execution_count": 9,
                    "data": {
                        "application/vnd.dataresource+json": {
                            "schema": {
                                "fields": [
                                    {
                                        "name": "OrderID"
                                    },
                                    {
                                        "name": "OrderDate"
                                    },
                                    {
                                        "name": "CustomerID"
                                    },
                                    {
                                        "name": "OrderTotal"
                                    }
                                ]
                            },
                            "data": [
                                {
                                    "OrderID": "1",
                                    "OrderDate": "2022-01-01",
                                    "CustomerID": "5",
                                    "OrderTotal": "1815,00"
                                },
                                {
                                    "OrderID": "2",
                                    "OrderDate": "2022-01-02",
                                    "CustomerID": "5",
                                    "OrderTotal": "964,00"
                                },
                                {
                                    "OrderID": "3",
                                    "OrderDate": "2022-01-04",
                                    "CustomerID": "2",
                                    "OrderTotal": "2238,00"
                                },
                                {
                                    "OrderID": "4",
                                    "OrderDate": "2022-01-06",
                                    "CustomerID": "1",
                                    "OrderTotal": "737,00"
                                },
                                {
                                    "OrderID": "5",
                                    "OrderDate": "2022-01-09",
                                    "CustomerID": "4",
                                    "OrderTotal": "569,00"
                                },
                                {
                                    "OrderID": "6",
                                    "OrderDate": "2022-01-09",
                                    "CustomerID": "4",
                                    "OrderTotal": "1586,00"
                                },
                                {
                                    "OrderID": "7",
                                    "OrderDate": "2022-01-09",
                                    "CustomerID": "4",
                                    "OrderTotal": "210,00"
                                },
                                {
                                    "OrderID": "8",
                                    "OrderDate": "2022-01-11",
                                    "CustomerID": "5",
                                    "OrderTotal": "2424,00"
                                },
                                {
                                    "OrderID": "9",
                                    "OrderDate": "2022-01-13",
                                    "CustomerID": "2",
                                    "OrderTotal": "1982,00"
                                },
                                {
                                    "OrderID": "10",
                                    "OrderDate": "2022-01-13",
                                    "CustomerID": "4",
                                    "OrderTotal": "39,00"
                                },
                                {
                                    "OrderID": "11",
                                    "OrderDate": "2022-01-15",
                                    "CustomerID": "5",
                                    "OrderTotal": "1383,00"
                                },
                                {
                                    "OrderID": "12",
                                    "OrderDate": "2022-01-19",
                                    "CustomerID": "1",
                                    "OrderTotal": "1680,00"
                                },
                                {
                                    "OrderID": "13",
                                    "OrderDate": "2022-01-20",
                                    "CustomerID": "3",
                                    "OrderTotal": "3293,00"
                                },
                                {
                                    "OrderID": "14",
                                    "OrderDate": "2022-01-21",
                                    "CustomerID": "1",
                                    "OrderTotal": "773,00"
                                },
                                {
                                    "OrderID": "15",
                                    "OrderDate": "2022-01-21",
                                    "CustomerID": "3",
                                    "OrderTotal": "1093,00"
                                },
                                {
                                    "OrderID": "16",
                                    "OrderDate": "2022-01-21",
                                    "CustomerID": "2",
                                    "OrderTotal": "998,00"
                                },
                                {
                                    "OrderID": "17",
                                    "OrderDate": "2022-01-23",
                                    "CustomerID": "3",
                                    "OrderTotal": "912,00"
                                },
                                {
                                    "OrderID": "18",
                                    "OrderDate": "2022-01-24",
                                    "CustomerID": "4",
                                    "OrderTotal": "915,00"
                                },
                                {
                                    "OrderID": "19",
                                    "OrderDate": "2022-01-27",
                                    "CustomerID": "2",
                                    "OrderTotal": "1410,00"
                                },
                                {
                                    "OrderID": "20",
                                    "OrderDate": "2022-02-01",
                                    "CustomerID": "2",
                                    "OrderTotal": "1955,00"
                                },
                                {
                                    "OrderID": "21",
                                    "OrderDate": "2022-02-05",
                                    "CustomerID": "5",
                                    "OrderTotal": "74,00"
                                },
                                {
                                    "OrderID": "22",
                                    "OrderDate": "2022-02-05",
                                    "CustomerID": "4",
                                    "OrderTotal": "1744,00"
                                },
                                {
                                    "OrderID": "23",
                                    "OrderDate": "2022-02-06",
                                    "CustomerID": "2",
                                    "OrderTotal": "1776,00"
                                },
                                {
                                    "OrderID": "24",
                                    "OrderDate": "2022-02-06",
                                    "CustomerID": "3",
                                    "OrderTotal": "1829,00"
                                },
                                {
                                    "OrderID": "25",
                                    "OrderDate": "2022-02-07",
                                    "CustomerID": "4",
                                    "OrderTotal": "1113,00"
                                },
                                {
                                    "OrderID": "26",
                                    "OrderDate": "2022-02-08",
                                    "CustomerID": "3",
                                    "OrderTotal": "171,00"
                                },
                                {
                                    "OrderID": "27",
                                    "OrderDate": "2022-02-09",
                                    "CustomerID": "3",
                                    "OrderTotal": "1291,00"
                                },
                                {
                                    "OrderID": "28",
                                    "OrderDate": "2022-02-11",
                                    "CustomerID": "4",
                                    "OrderTotal": "2060,00"
                                },
                                {
                                    "OrderID": "29",
                                    "OrderDate": "2022-02-11",
                                    "CustomerID": "5",
                                    "OrderTotal": "1263,00"
                                },
                                {
                                    "OrderID": "30",
                                    "OrderDate": "2022-02-12",
                                    "CustomerID": "1",
                                    "OrderTotal": "2117,00"
                                },
                                {
                                    "OrderID": "31",
                                    "OrderDate": "2022-02-13",
                                    "CustomerID": "2",
                                    "OrderTotal": "1900,00"
                                },
                                {
                                    "OrderID": "32",
                                    "OrderDate": "2022-02-16",
                                    "CustomerID": "5",
                                    "OrderTotal": "2847,00"
                                },
                                {
                                    "OrderID": "33",
                                    "OrderDate": "2022-02-17",
                                    "CustomerID": "3",
                                    "OrderTotal": "2159,00"
                                },
                                {
                                    "OrderID": "34",
                                    "OrderDate": "2022-02-18",
                                    "CustomerID": "2",
                                    "OrderTotal": "1196,00"
                                },
                                {
                                    "OrderID": "35",
                                    "OrderDate": "2022-02-21",
                                    "CustomerID": "5",
                                    "OrderTotal": "1165,00"
                                },
                                {
                                    "OrderID": "36",
                                    "OrderDate": "2022-02-25",
                                    "CustomerID": "4",
                                    "OrderTotal": "1391,00"
                                },
                                {
                                    "OrderID": "37",
                                    "OrderDate": "2022-02-25",
                                    "CustomerID": "2",
                                    "OrderTotal": "1415,00"
                                },
                                {
                                    "OrderID": "38",
                                    "OrderDate": "2022-02-26",
                                    "CustomerID": "1",
                                    "OrderTotal": "685,00"
                                },
                                {
                                    "OrderID": "39",
                                    "OrderDate": "2022-02-26",
                                    "CustomerID": "5",
                                    "OrderTotal": "1094,00"
                                },
                                {
                                    "OrderID": "40",
                                    "OrderDate": "2022-02-28",
                                    "CustomerID": "1",
                                    "OrderTotal": "487,00"
                                },
                                {
                                    "OrderID": "41",
                                    "OrderDate": "2022-02-28",
                                    "CustomerID": "5",
                                    "OrderTotal": "240,00"
                                },
                                {
                                    "OrderID": "42",
                                    "OrderDate": "2022-03-07",
                                    "CustomerID": "1",
                                    "OrderTotal": "1351,00"
                                },
                                {
                                    "OrderID": "43",
                                    "OrderDate": "2022-03-07",
                                    "CustomerID": "5",
                                    "OrderTotal": "3518,00"
                                },
                                {
                                    "OrderID": "44",
                                    "OrderDate": "2022-03-07",
                                    "CustomerID": "3",
                                    "OrderTotal": "952,00"
                                },
                                {
                                    "OrderID": "45",
                                    "OrderDate": "2022-03-08",
                                    "CustomerID": "3",
                                    "OrderTotal": "2208,00"
                                },
                                {
                                    "OrderID": "46",
                                    "OrderDate": "2022-03-09",
                                    "CustomerID": "5",
                                    "OrderTotal": "648,00"
                                },
                                {
                                    "OrderID": "47",
                                    "OrderDate": "2022-03-10",
                                    "CustomerID": "3",
                                    "OrderTotal": "798,00"
                                },
                                {
                                    "OrderID": "48",
                                    "OrderDate": "2022-03-12",
                                    "CustomerID": "4",
                                    "OrderTotal": "655,00"
                                },
                                {
                                    "OrderID": "49",
                                    "OrderDate": "2022-03-13",
                                    "CustomerID": "1",
                                    "OrderTotal": "588,00"
                                },
                                {
                                    "OrderID": "50",
                                    "OrderDate": "2022-03-14",
                                    "CustomerID": "4",
                                    "OrderTotal": "180,00"
                                }
                            ]
                        },
                        "text/html": "<table><tr><th>OrderID</th><th>OrderDate</th><th>CustomerID</th><th>OrderTotal</th></tr><tr><td>1</td><td>2022-01-01</td><td>5</td><td>1815,00</td></tr><tr><td>2</td><td>2022-01-02</td><td>5</td><td>964,00</td></tr><tr><td>3</td><td>2022-01-04</td><td>2</td><td>2238,00</td></tr><tr><td>4</td><td>2022-01-06</td><td>1</td><td>737,00</td></tr><tr><td>5</td><td>2022-01-09</td><td>4</td><td>569,00</td></tr><tr><td>6</td><td>2022-01-09</td><td>4</td><td>1586,00</td></tr><tr><td>7</td><td>2022-01-09</td><td>4</td><td>210,00</td></tr><tr><td>8</td><td>2022-01-11</td><td>5</td><td>2424,00</td></tr><tr><td>9</td><td>2022-01-13</td><td>2</td><td>1982,00</td></tr><tr><td>10</td><td>2022-01-13</td><td>4</td><td>39,00</td></tr><tr><td>11</td><td>2022-01-15</td><td>5</td><td>1383,00</td></tr><tr><td>12</td><td>2022-01-19</td><td>1</td><td>1680,00</td></tr><tr><td>13</td><td>2022-01-20</td><td>3</td><td>3293,00</td></tr><tr><td>14</td><td>2022-01-21</td><td>1</td><td>773,00</td></tr><tr><td>15</td><td>2022-01-21</td><td>3</td><td>1093,00</td></tr><tr><td>16</td><td>2022-01-21</td><td>2</td><td>998,00</td></tr><tr><td>17</td><td>2022-01-23</td><td>3</td><td>912,00</td></tr><tr><td>18</td><td>2022-01-24</td><td>4</td><td>915,00</td></tr><tr><td>19</td><td>2022-01-27</td><td>2</td><td>1410,00</td></tr><tr><td>20</td><td>2022-02-01</td><td>2</td><td>1955,00</td></tr><tr><td>21</td><td>2022-02-05</td><td>5</td><td>74,00</td></tr><tr><td>22</td><td>2022-02-05</td><td>4</td><td>1744,00</td></tr><tr><td>23</td><td>2022-02-06</td><td>2</td><td>1776,00</td></tr><tr><td>24</td><td>2022-02-06</td><td>3</td><td>1829,00</td></tr><tr><td>25</td><td>2022-02-07</td><td>4</td><td>1113,00</td></tr><tr><td>26</td><td>2022-02-08</td><td>3</td><td>171,00</td></tr><tr><td>27</td><td>2022-02-09</td><td>3</td><td>1291,00</td></tr><tr><td>28</td><td>2022-02-11</td><td>4</td><td>2060,00</td></tr><tr><td>29</td><td>2022-02-11</td><td>5</td><td>1263,00</td></tr><tr><td>30</td><td>2022-02-12</td><td>1</td><td>2117,00</td></tr><tr><td>31</td><td>2022-02-13</td><td>2</td><td>1900,00</td></tr><tr><td>32</td><td>2022-02-16</td><td>5</td><td>2847,00</td></tr><tr><td>33</td><td>2022-02-17</td><td>3</td><td>2159,00</td></tr><tr><td>34</td><td>2022-02-18</td><td>2</td><td>1196,00</td></tr><tr><td>35</td><td>2022-02-21</td><td>5</td><td>1165,00</td></tr><tr><td>36</td><td>2022-02-25</td><td>4</td><td>1391,00</td></tr><tr><td>37</td><td>2022-02-25</td><td>2</td><td>1415,00</td></tr><tr><td>38</td><td>2022-02-26</td><td>1</td><td>685,00</td></tr><tr><td>39</td><td>2022-02-26</td><td>5</td><td>1094,00</td></tr><tr><td>40</td><td>2022-02-28</td><td>1</td><td>487,00</td></tr><tr><td>41</td><td>2022-02-28</td><td>5</td><td>240,00</td></tr><tr><td>42</td><td>2022-03-07</td><td>1</td><td>1351,00</td></tr><tr><td>43</td><td>2022-03-07</td><td>5</td><td>3518,00</td></tr><tr><td>44</td><td>2022-03-07</td><td>3</td><td>952,00</td></tr><tr><td>45</td><td>2022-03-08</td><td>3</td><td>2208,00</td></tr><tr><td>46</td><td>2022-03-09</td><td>5</td><td>648,00</td></tr><tr><td>47</td><td>2022-03-10</td><td>3</td><td>798,00</td></tr><tr><td>48</td><td>2022-03-12</td><td>4</td><td>655,00</td></tr><tr><td>49</td><td>2022-03-13</td><td>1</td><td>588,00</td></tr><tr><td>50</td><td>2022-03-14</td><td>4</td><td>180,00</td></tr></table>"
                    },
                    "metadata": {}
                }
            ],
            "execution_count": 9
        },
        {
            "cell_type": "code",
            "source": [
                "--Distribuição de pedidos por mês\n",
                "SELECT \n",
                "    MONTH(OrderDate) AS Month,                  \n",
                "    COUNT(*) AS TotalOrders,                    \n",
                "    SUM(OrderTotal) AS TotalRevenue             \n",
                "FROM \n",
                "    KCC.dbo.Orders\n",
                "GROUP BY \n",
                "    MONTH(OrderDate)                           \n",
                "ORDER BY \n",
                "    Month;                                     \n",
                ""
            ],
            "metadata": {
                "language": "sql",
                "azdata_cell_guid": "709eca6a-d598-495a-bc5e-6584b295281e"
            },
            "outputs": [
                {
                    "output_type": "display_data",
                    "data": {
                        "text/html": "(3 rows affected)"
                    },
                    "metadata": {}
                },
                {
                    "output_type": "display_data",
                    "data": {
                        "text/html": "Total execution time: 00:00:00.004"
                    },
                    "metadata": {}
                },
                {
                    "output_type": "execute_result",
                    "execution_count": 10,
                    "data": {
                        "application/vnd.dataresource+json": {
                            "schema": {
                                "fields": [
                                    {
                                        "name": "Month"
                                    },
                                    {
                                        "name": "TotalOrders"
                                    },
                                    {
                                        "name": "TotalRevenue"
                                    }
                                ]
                            },
                            "data": [
                                {
                                    "Month": "1",
                                    "TotalOrders": "19",
                                    "TotalRevenue": "25021,00"
                                },
                                {
                                    "Month": "2",
                                    "TotalOrders": "22",
                                    "TotalRevenue": "29972,00"
                                },
                                {
                                    "Month": "3",
                                    "TotalOrders": "9",
                                    "TotalRevenue": "10898,00"
                                }
                            ]
                        },
                        "text/html": "<table><tr><th>Month</th><th>TotalOrders</th><th>TotalRevenue</th></tr><tr><td>1</td><td>19</td><td>25021,00</td></tr><tr><td>2</td><td>22</td><td>29972,00</td></tr><tr><td>3</td><td>9</td><td>10898,00</td></tr></table>"
                    },
                    "metadata": {}
                }
            ],
            "execution_count": 10
        },
        {
            "cell_type": "code",
            "source": [
                "--Analisando a tabela Order_Product\n",
                "SELECT * FROM KCC.dbo.Order_Product;"
            ],
            "metadata": {
                "azdata_cell_guid": "c0295e14-ec4a-4746-af09-327c0ba5bd53",
                "language": "sql"
            },
            "outputs": [
                {
                    "output_type": "display_data",
                    "data": {
                        "text/html": "(131 rows affected)"
                    },
                    "metadata": {}
                },
                {
                    "output_type": "display_data",
                    "data": {
                        "text/html": "Total execution time: 00:00:00.002"
                    },
                    "metadata": {}
                },
                {
                    "output_type": "execute_result",
                    "execution_count": 11,
                    "data": {
                        "application/vnd.dataresource+json": {
                            "schema": {
                                "fields": [
                                    {
                                        "name": "OrderID"
                                    },
                                    {
                                        "name": "CookieID"
                                    },
                                    {
                                        "name": "Quantity"
                                    }
                                ]
                            },
                            "data": [
                                {
                                    "OrderID": "1",
                                    "CookieID": "1",
                                    "Quantity": "229"
                                },
                                {
                                    "OrderID": "1",
                                    "CookieID": "2",
                                    "Quantity": "160"
                                },
                                {
                                    "OrderID": "1",
                                    "CookieID": "3",
                                    "Quantity": "84"
                                },
                                {
                                    "OrderID": "1",
                                    "CookieID": "5",
                                    "Quantity": "30"
                                },
                                {
                                    "OrderID": "2",
                                    "CookieID": "4",
                                    "Quantity": "49"
                                },
                                {
                                    "OrderID": "2",
                                    "CookieID": "6",
                                    "Quantity": "128"
                                },
                                {
                                    "OrderID": "3",
                                    "CookieID": "1",
                                    "Quantity": "82"
                                },
                                {
                                    "OrderID": "3",
                                    "CookieID": "2",
                                    "Quantity": "170"
                                },
                                {
                                    "OrderID": "3",
                                    "CookieID": "3",
                                    "Quantity": "202"
                                },
                                {
                                    "OrderID": "3",
                                    "CookieID": "5",
                                    "Quantity": "180"
                                },
                                {
                                    "OrderID": "3",
                                    "CookieID": "6",
                                    "Quantity": "18"
                                },
                                {
                                    "OrderID": "4",
                                    "CookieID": "2",
                                    "Quantity": "209"
                                },
                                {
                                    "OrderID": "4",
                                    "CookieID": "3",
                                    "Quantity": "25"
                                },
                                {
                                    "OrderID": "4",
                                    "CookieID": "4",
                                    "Quantity": "82"
                                },
                                {
                                    "OrderID": "4",
                                    "CookieID": "5",
                                    "Quantity": "25"
                                },
                                {
                                    "OrderID": "5",
                                    "CookieID": "1",
                                    "Quantity": "46"
                                },
                                {
                                    "OrderID": "5",
                                    "CookieID": "5",
                                    "Quantity": "11"
                                },
                                {
                                    "OrderID": "5",
                                    "CookieID": "6",
                                    "Quantity": "51"
                                },
                                {
                                    "OrderID": "6",
                                    "CookieID": "1",
                                    "Quantity": "214"
                                },
                                {
                                    "OrderID": "6",
                                    "CookieID": "3",
                                    "Quantity": "24"
                                },
                                {
                                    "OrderID": "6",
                                    "CookieID": "6",
                                    "Quantity": "66"
                                },
                                {
                                    "OrderID": "7",
                                    "CookieID": "2",
                                    "Quantity": "210"
                                },
                                {
                                    "OrderID": "8",
                                    "CookieID": "2",
                                    "Quantity": "114"
                                },
                                {
                                    "OrderID": "8",
                                    "CookieID": "3",
                                    "Quantity": "36"
                                },
                                {
                                    "OrderID": "8",
                                    "CookieID": "4",
                                    "Quantity": "186"
                                },
                                {
                                    "OrderID": "8",
                                    "CookieID": "5",
                                    "Quantity": "106"
                                },
                                {
                                    "OrderID": "8",
                                    "CookieID": "6",
                                    "Quantity": "178"
                                },
                                {
                                    "OrderID": "9",
                                    "CookieID": "1",
                                    "Quantity": "119"
                                },
                                {
                                    "OrderID": "9",
                                    "CookieID": "2",
                                    "Quantity": "226"
                                },
                                {
                                    "OrderID": "9",
                                    "CookieID": "3",
                                    "Quantity": "153"
                                },
                                {
                                    "OrderID": "9",
                                    "CookieID": "4",
                                    "Quantity": "99"
                                },
                                {
                                    "OrderID": "10",
                                    "CookieID": "2",
                                    "Quantity": "39"
                                },
                                {
                                    "OrderID": "11",
                                    "CookieID": "2",
                                    "Quantity": "53"
                                },
                                {
                                    "OrderID": "11",
                                    "CookieID": "4",
                                    "Quantity": "235"
                                },
                                {
                                    "OrderID": "11",
                                    "CookieID": "6",
                                    "Quantity": "65"
                                },
                                {
                                    "OrderID": "12",
                                    "CookieID": "1",
                                    "Quantity": "171"
                                },
                                {
                                    "OrderID": "12",
                                    "CookieID": "2",
                                    "Quantity": "234"
                                },
                                {
                                    "OrderID": "12",
                                    "CookieID": "5",
                                    "Quantity": "197"
                                },
                                {
                                    "OrderID": "13",
                                    "CookieID": "1",
                                    "Quantity": "201"
                                },
                                {
                                    "OrderID": "13",
                                    "CookieID": "2",
                                    "Quantity": "193"
                                },
                                {
                                    "OrderID": "13",
                                    "CookieID": "3",
                                    "Quantity": "239"
                                },
                                {
                                    "OrderID": "13",
                                    "CookieID": "4",
                                    "Quantity": "225"
                                },
                                {
                                    "OrderID": "14",
                                    "CookieID": "2",
                                    "Quantity": "227"
                                },
                                {
                                    "OrderID": "14",
                                    "CookieID": "3",
                                    "Quantity": "78"
                                },
                                {
                                    "OrderID": "14",
                                    "CookieID": "6",
                                    "Quantity": "26"
                                },
                                {
                                    "OrderID": "15",
                                    "CookieID": "1",
                                    "Quantity": "61"
                                },
                                {
                                    "OrderID": "15",
                                    "CookieID": "2",
                                    "Quantity": "99"
                                },
                                {
                                    "OrderID": "15",
                                    "CookieID": "3",
                                    "Quantity": "109"
                                },
                                {
                                    "OrderID": "15",
                                    "CookieID": "5",
                                    "Quantity": "48"
                                },
                                {
                                    "OrderID": "16",
                                    "CookieID": "4",
                                    "Quantity": "56"
                                },
                                {
                                    "OrderID": "16",
                                    "CookieID": "6",
                                    "Quantity": "129"
                                },
                                {
                                    "OrderID": "17",
                                    "CookieID": "3",
                                    "Quantity": "63"
                                },
                                {
                                    "OrderID": "17",
                                    "CookieID": "5",
                                    "Quantity": "199"
                                },
                                {
                                    "OrderID": "18",
                                    "CookieID": "3",
                                    "Quantity": "183"
                                },
                                {
                                    "OrderID": "19",
                                    "CookieID": "6",
                                    "Quantity": "235"
                                },
                                {
                                    "OrderID": "20",
                                    "CookieID": "1",
                                    "Quantity": "244"
                                },
                                {
                                    "OrderID": "20",
                                    "CookieID": "3",
                                    "Quantity": "147"
                                },
                                {
                                    "OrderID": "21",
                                    "CookieID": "2",
                                    "Quantity": "74"
                                },
                                {
                                    "OrderID": "22",
                                    "CookieID": "2",
                                    "Quantity": "141"
                                },
                                {
                                    "OrderID": "22",
                                    "CookieID": "3",
                                    "Quantity": "176"
                                },
                                {
                                    "OrderID": "22",
                                    "CookieID": "5",
                                    "Quantity": "241"
                                },
                                {
                                    "OrderID": "23",
                                    "CookieID": "1",
                                    "Quantity": "132"
                                },
                                {
                                    "OrderID": "23",
                                    "CookieID": "4",
                                    "Quantity": "27"
                                },
                                {
                                    "OrderID": "23",
                                    "CookieID": "6",
                                    "Quantity": "168"
                                },
                                {
                                    "OrderID": "24",
                                    "CookieID": "2",
                                    "Quantity": "179"
                                },
                                {
                                    "OrderID": "24",
                                    "CookieID": "5",
                                    "Quantity": "122"
                                },
                                {
                                    "OrderID": "24",
                                    "CookieID": "6",
                                    "Quantity": "214"
                                },
                                {
                                    "OrderID": "25",
                                    "CookieID": "2",
                                    "Quantity": "239"
                                },
                                {
                                    "OrderID": "25",
                                    "CookieID": "3",
                                    "Quantity": "42"
                                },
                                {
                                    "OrderID": "25",
                                    "CookieID": "4",
                                    "Quantity": "166"
                                },
                                {
                                    "OrderID": "26",
                                    "CookieID": "2",
                                    "Quantity": "171"
                                },
                                {
                                    "OrderID": "27",
                                    "CookieID": "1",
                                    "Quantity": "179"
                                },
                                {
                                    "OrderID": "27",
                                    "CookieID": "6",
                                    "Quantity": "66"
                                },
                                {
                                    "OrderID": "28",
                                    "CookieID": "4",
                                    "Quantity": "134"
                                },
                                {
                                    "OrderID": "28",
                                    "CookieID": "5",
                                    "Quantity": "172"
                                },
                                {
                                    "OrderID": "28",
                                    "CookieID": "6",
                                    "Quantity": "168"
                                },
                                {
                                    "OrderID": "29",
                                    "CookieID": "2",
                                    "Quantity": "79"
                                },
                                {
                                    "OrderID": "29",
                                    "CookieID": "3",
                                    "Quantity": "96"
                                },
                                {
                                    "OrderID": "29",
                                    "CookieID": "4",
                                    "Quantity": "80"
                                },
                                {
                                    "OrderID": "29",
                                    "CookieID": "5",
                                    "Quantity": "94"
                                },
                                {
                                    "OrderID": "29",
                                    "CookieID": "6",
                                    "Quantity": "17"
                                },
                                {
                                    "OrderID": "30",
                                    "CookieID": "1",
                                    "Quantity": "169"
                                },
                                {
                                    "OrderID": "30",
                                    "CookieID": "4",
                                    "Quantity": "204"
                                },
                                {
                                    "OrderID": "30",
                                    "CookieID": "5",
                                    "Quantity": "152"
                                },
                                {
                                    "OrderID": "31",
                                    "CookieID": "1",
                                    "Quantity": "151"
                                },
                                {
                                    "OrderID": "31",
                                    "CookieID": "3",
                                    "Quantity": "229"
                                },
                                {
                                    "OrderID": "32",
                                    "CookieID": "1",
                                    "Quantity": "93"
                                },
                                {
                                    "OrderID": "32",
                                    "CookieID": "3",
                                    "Quantity": "128"
                                },
                                {
                                    "OrderID": "32",
                                    "CookieID": "4",
                                    "Quantity": "122"
                                },
                                {
                                    "OrderID": "32",
                                    "CookieID": "6",
                                    "Quantity": "209"
                                },
                                {
                                    "OrderID": "33",
                                    "CookieID": "3",
                                    "Quantity": "103"
                                },
                                {
                                    "OrderID": "33",
                                    "CookieID": "5",
                                    "Quantity": "202"
                                },
                                {
                                    "OrderID": "33",
                                    "CookieID": "6",
                                    "Quantity": "173"
                                },
                                {
                                    "OrderID": "34",
                                    "CookieID": "1",
                                    "Quantity": "200"
                                },
                                {
                                    "OrderID": "34",
                                    "CookieID": "2",
                                    "Quantity": "196"
                                },
                                {
                                    "OrderID": "35",
                                    "CookieID": "3",
                                    "Quantity": "34"
                                },
                                {
                                    "OrderID": "35",
                                    "CookieID": "4",
                                    "Quantity": "164"
                                },
                                {
                                    "OrderID": "35",
                                    "CookieID": "5",
                                    "Quantity": "113"
                                },
                                {
                                    "OrderID": "36",
                                    "CookieID": "1",
                                    "Quantity": "116"
                                },
                                {
                                    "OrderID": "36",
                                    "CookieID": "4",
                                    "Quantity": "127"
                                },
                                {
                                    "OrderID": "36",
                                    "CookieID": "5",
                                    "Quantity": "101"
                                },
                                {
                                    "OrderID": "37",
                                    "CookieID": "1",
                                    "Quantity": "136"
                                },
                                {
                                    "OrderID": "37",
                                    "CookieID": "5",
                                    "Quantity": "245"
                                },
                                {
                                    "OrderID": "38",
                                    "CookieID": "1",
                                    "Quantity": "137"
                                },
                                {
                                    "OrderID": "39",
                                    "CookieID": "4",
                                    "Quantity": "14"
                                },
                                {
                                    "OrderID": "39",
                                    "CookieID": "6",
                                    "Quantity": "173"
                                },
                                {
                                    "OrderID": "40",
                                    "CookieID": "3",
                                    "Quantity": "87"
                                },
                                {
                                    "OrderID": "40",
                                    "CookieID": "4",
                                    "Quantity": "13"
                                },
                                {
                                    "OrderID": "41",
                                    "CookieID": "1",
                                    "Quantity": "48"
                                },
                                {
                                    "OrderID": "42",
                                    "CookieID": "2",
                                    "Quantity": "123"
                                },
                                {
                                    "OrderID": "42",
                                    "CookieID": "4",
                                    "Quantity": "217"
                                },
                                {
                                    "OrderID": "42",
                                    "CookieID": "5",
                                    "Quantity": "120"
                                },
                                {
                                    "OrderID": "43",
                                    "CookieID": "1",
                                    "Quantity": "209"
                                },
                                {
                                    "OrderID": "43",
                                    "CookieID": "3",
                                    "Quantity": "125"
                                },
                                {
                                    "OrderID": "43",
                                    "CookieID": "4",
                                    "Quantity": "18"
                                },
                                {
                                    "OrderID": "43",
                                    "CookieID": "5",
                                    "Quantity": "220"
                                },
                                {
                                    "OrderID": "43",
                                    "CookieID": "6",
                                    "Quantity": "186"
                                },
                                {
                                    "OrderID": "44",
                                    "CookieID": "2",
                                    "Quantity": "155"
                                },
                                {
                                    "OrderID": "44",
                                    "CookieID": "4",
                                    "Quantity": "20"
                                },
                                {
                                    "OrderID": "44",
                                    "CookieID": "5",
                                    "Quantity": "239"
                                },
                                {
                                    "OrderID": "45",
                                    "CookieID": "4",
                                    "Quantity": "168"
                                },
                                {
                                    "OrderID": "45",
                                    "CookieID": "5",
                                    "Quantity": "224"
                                },
                                {
                                    "OrderID": "45",
                                    "CookieID": "6",
                                    "Quantity": "144"
                                },
                                {
                                    "OrderID": "46",
                                    "CookieID": "2",
                                    "Quantity": "177"
                                },
                                {
                                    "OrderID": "46",
                                    "CookieID": "4",
                                    "Quantity": "66"
                                },
                                {
                                    "OrderID": "46",
                                    "CookieID": "5",
                                    "Quantity": "69"
                                },
                                {
                                    "OrderID": "47",
                                    "CookieID": "4",
                                    "Quantity": "132"
                                },
                                {
                                    "OrderID": "47",
                                    "CookieID": "6",
                                    "Quantity": "45"
                                },
                                {
                                    "OrderID": "48",
                                    "CookieID": "3",
                                    "Quantity": "131"
                                },
                                {
                                    "OrderID": "49",
                                    "CookieID": "4",
                                    "Quantity": "147"
                                },
                                {
                                    "OrderID": "50",
                                    "CookieID": "6",
                                    "Quantity": "30"
                                }
                            ]
                        },
                        "text/html": "<table><tr><th>OrderID</th><th>CookieID</th><th>Quantity</th></tr><tr><td>1</td><td>1</td><td>229</td></tr><tr><td>1</td><td>2</td><td>160</td></tr><tr><td>1</td><td>3</td><td>84</td></tr><tr><td>1</td><td>5</td><td>30</td></tr><tr><td>2</td><td>4</td><td>49</td></tr><tr><td>2</td><td>6</td><td>128</td></tr><tr><td>3</td><td>1</td><td>82</td></tr><tr><td>3</td><td>2</td><td>170</td></tr><tr><td>3</td><td>3</td><td>202</td></tr><tr><td>3</td><td>5</td><td>180</td></tr><tr><td>3</td><td>6</td><td>18</td></tr><tr><td>4</td><td>2</td><td>209</td></tr><tr><td>4</td><td>3</td><td>25</td></tr><tr><td>4</td><td>4</td><td>82</td></tr><tr><td>4</td><td>5</td><td>25</td></tr><tr><td>5</td><td>1</td><td>46</td></tr><tr><td>5</td><td>5</td><td>11</td></tr><tr><td>5</td><td>6</td><td>51</td></tr><tr><td>6</td><td>1</td><td>214</td></tr><tr><td>6</td><td>3</td><td>24</td></tr><tr><td>6</td><td>6</td><td>66</td></tr><tr><td>7</td><td>2</td><td>210</td></tr><tr><td>8</td><td>2</td><td>114</td></tr><tr><td>8</td><td>3</td><td>36</td></tr><tr><td>8</td><td>4</td><td>186</td></tr><tr><td>8</td><td>5</td><td>106</td></tr><tr><td>8</td><td>6</td><td>178</td></tr><tr><td>9</td><td>1</td><td>119</td></tr><tr><td>9</td><td>2</td><td>226</td></tr><tr><td>9</td><td>3</td><td>153</td></tr><tr><td>9</td><td>4</td><td>99</td></tr><tr><td>10</td><td>2</td><td>39</td></tr><tr><td>11</td><td>2</td><td>53</td></tr><tr><td>11</td><td>4</td><td>235</td></tr><tr><td>11</td><td>6</td><td>65</td></tr><tr><td>12</td><td>1</td><td>171</td></tr><tr><td>12</td><td>2</td><td>234</td></tr><tr><td>12</td><td>5</td><td>197</td></tr><tr><td>13</td><td>1</td><td>201</td></tr><tr><td>13</td><td>2</td><td>193</td></tr><tr><td>13</td><td>3</td><td>239</td></tr><tr><td>13</td><td>4</td><td>225</td></tr><tr><td>14</td><td>2</td><td>227</td></tr><tr><td>14</td><td>3</td><td>78</td></tr><tr><td>14</td><td>6</td><td>26</td></tr><tr><td>15</td><td>1</td><td>61</td></tr><tr><td>15</td><td>2</td><td>99</td></tr><tr><td>15</td><td>3</td><td>109</td></tr><tr><td>15</td><td>5</td><td>48</td></tr><tr><td>16</td><td>4</td><td>56</td></tr><tr><td>16</td><td>6</td><td>129</td></tr><tr><td>17</td><td>3</td><td>63</td></tr><tr><td>17</td><td>5</td><td>199</td></tr><tr><td>18</td><td>3</td><td>183</td></tr><tr><td>19</td><td>6</td><td>235</td></tr><tr><td>20</td><td>1</td><td>244</td></tr><tr><td>20</td><td>3</td><td>147</td></tr><tr><td>21</td><td>2</td><td>74</td></tr><tr><td>22</td><td>2</td><td>141</td></tr><tr><td>22</td><td>3</td><td>176</td></tr><tr><td>22</td><td>5</td><td>241</td></tr><tr><td>23</td><td>1</td><td>132</td></tr><tr><td>23</td><td>4</td><td>27</td></tr><tr><td>23</td><td>6</td><td>168</td></tr><tr><td>24</td><td>2</td><td>179</td></tr><tr><td>24</td><td>5</td><td>122</td></tr><tr><td>24</td><td>6</td><td>214</td></tr><tr><td>25</td><td>2</td><td>239</td></tr><tr><td>25</td><td>3</td><td>42</td></tr><tr><td>25</td><td>4</td><td>166</td></tr><tr><td>26</td><td>2</td><td>171</td></tr><tr><td>27</td><td>1</td><td>179</td></tr><tr><td>27</td><td>6</td><td>66</td></tr><tr><td>28</td><td>4</td><td>134</td></tr><tr><td>28</td><td>5</td><td>172</td></tr><tr><td>28</td><td>6</td><td>168</td></tr><tr><td>29</td><td>2</td><td>79</td></tr><tr><td>29</td><td>3</td><td>96</td></tr><tr><td>29</td><td>4</td><td>80</td></tr><tr><td>29</td><td>5</td><td>94</td></tr><tr><td>29</td><td>6</td><td>17</td></tr><tr><td>30</td><td>1</td><td>169</td></tr><tr><td>30</td><td>4</td><td>204</td></tr><tr><td>30</td><td>5</td><td>152</td></tr><tr><td>31</td><td>1</td><td>151</td></tr><tr><td>31</td><td>3</td><td>229</td></tr><tr><td>32</td><td>1</td><td>93</td></tr><tr><td>32</td><td>3</td><td>128</td></tr><tr><td>32</td><td>4</td><td>122</td></tr><tr><td>32</td><td>6</td><td>209</td></tr><tr><td>33</td><td>3</td><td>103</td></tr><tr><td>33</td><td>5</td><td>202</td></tr><tr><td>33</td><td>6</td><td>173</td></tr><tr><td>34</td><td>1</td><td>200</td></tr><tr><td>34</td><td>2</td><td>196</td></tr><tr><td>35</td><td>3</td><td>34</td></tr><tr><td>35</td><td>4</td><td>164</td></tr><tr><td>35</td><td>5</td><td>113</td></tr><tr><td>36</td><td>1</td><td>116</td></tr><tr><td>36</td><td>4</td><td>127</td></tr><tr><td>36</td><td>5</td><td>101</td></tr><tr><td>37</td><td>1</td><td>136</td></tr><tr><td>37</td><td>5</td><td>245</td></tr><tr><td>38</td><td>1</td><td>137</td></tr><tr><td>39</td><td>4</td><td>14</td></tr><tr><td>39</td><td>6</td><td>173</td></tr><tr><td>40</td><td>3</td><td>87</td></tr><tr><td>40</td><td>4</td><td>13</td></tr><tr><td>41</td><td>1</td><td>48</td></tr><tr><td>42</td><td>2</td><td>123</td></tr><tr><td>42</td><td>4</td><td>217</td></tr><tr><td>42</td><td>5</td><td>120</td></tr><tr><td>43</td><td>1</td><td>209</td></tr><tr><td>43</td><td>3</td><td>125</td></tr><tr><td>43</td><td>4</td><td>18</td></tr><tr><td>43</td><td>5</td><td>220</td></tr><tr><td>43</td><td>6</td><td>186</td></tr><tr><td>44</td><td>2</td><td>155</td></tr><tr><td>44</td><td>4</td><td>20</td></tr><tr><td>44</td><td>5</td><td>239</td></tr><tr><td>45</td><td>4</td><td>168</td></tr><tr><td>45</td><td>5</td><td>224</td></tr><tr><td>45</td><td>6</td><td>144</td></tr><tr><td>46</td><td>2</td><td>177</td></tr><tr><td>46</td><td>4</td><td>66</td></tr><tr><td>46</td><td>5</td><td>69</td></tr><tr><td>47</td><td>4</td><td>132</td></tr><tr><td>47</td><td>6</td><td>45</td></tr><tr><td>48</td><td>3</td><td>131</td></tr><tr><td>49</td><td>4</td><td>147</td></tr><tr><td>50</td><td>6</td><td>30</td></tr></table>"
                    },
                    "metadata": {}
                }
            ],
            "execution_count": 11
        },
        {
            "cell_type": "code",
            "source": [
                "--Analisando a tabela Product\n",
                "SELECT * FROM KCC.dbo.Product;"
            ],
            "metadata": {
                "azdata_cell_guid": "8da0f50b-96ce-4d35-8eb7-94228b91a260",
                "language": "sql"
            },
            "outputs": [
                {
                    "output_type": "display_data",
                    "data": {
                        "text/html": "(6 rows affected)"
                    },
                    "metadata": {}
                },
                {
                    "output_type": "display_data",
                    "data": {
                        "text/html": "Total execution time: 00:00:00.001"
                    },
                    "metadata": {}
                },
                {
                    "output_type": "execute_result",
                    "execution_count": 12,
                    "data": {
                        "application/vnd.dataresource+json": {
                            "schema": {
                                "fields": [
                                    {
                                        "name": "CookieID"
                                    },
                                    {
                                        "name": "CookieName"
                                    },
                                    {
                                        "name": "RevenuePerCookie"
                                    },
                                    {
                                        "name": "CostPerCookie"
                                    }
                                ]
                            },
                            "data": [
                                {
                                    "CookieID": "1",
                                    "CookieName": "Chocolate Chip ",
                                    "RevenuePerCookie": "5,00",
                                    "CostPerCookie": "2,00"
                                },
                                {
                                    "CookieID": "2",
                                    "CookieName": "Fortune Cookie ",
                                    "RevenuePerCookie": "1,00",
                                    "CostPerCookie": "0,50"
                                },
                                {
                                    "CookieID": "3",
                                    "CookieName": "Oatmeal Raisin ",
                                    "RevenuePerCookie": "5,00",
                                    "CostPerCookie": "2,20"
                                },
                                {
                                    "CookieID": "4",
                                    "CookieName": "Snickerdoodle ",
                                    "RevenuePerCookie": "4,00",
                                    "CostPerCookie": "1,50"
                                },
                                {
                                    "CookieID": "5",
                                    "CookieName": "Sugar ",
                                    "RevenuePerCookie": "3,00",
                                    "CostPerCookie": "1,25"
                                },
                                {
                                    "CookieID": "6",
                                    "CookieName": "White Chocolate Macadamia Nut ",
                                    "RevenuePerCookie": "6,00",
                                    "CostPerCookie": "2,75"
                                }
                            ]
                        },
                        "text/html": "<table><tr><th>CookieID</th><th>CookieName</th><th>RevenuePerCookie</th><th>CostPerCookie</th></tr><tr><td>1</td><td>Chocolate Chip </td><td>5,00</td><td>2,00</td></tr><tr><td>2</td><td>Fortune Cookie </td><td>1,00</td><td>0,50</td></tr><tr><td>3</td><td>Oatmeal Raisin </td><td>5,00</td><td>2,20</td></tr><tr><td>4</td><td>Snickerdoodle </td><td>4,00</td><td>1,50</td></tr><tr><td>5</td><td>Sugar </td><td>3,00</td><td>1,25</td></tr><tr><td>6</td><td>White Chocolate Macadamia Nut </td><td>6,00</td><td>2,75</td></tr></table>"
                    },
                    "metadata": {}
                }
            ],
            "execution_count": 12
        },
        {
            "cell_type": "code",
            "source": [
                "--Estatísticas descritivas para os valores numéricos\n",
                "--Tabela Orders - Variável: OrderTotal\n",
                "SELECT \n",
                "    MIN(OrderTotal) AS MinOrderTotal,\n",
                "    MAX(OrderTotal) AS MaxOrderTotal,\n",
                "    AVG(OrderTotal) AS AvgOrderTotal,\n",
                "    SUM(OrderTotal) AS TotalOrderValue,\n",
                "    STDEV(OrderTotal) AS StdDevOrderTotal\n",
                "FROM KCC.dbo.Orders;\n",
                "\n",
                ""
            ],
            "metadata": {
                "azdata_cell_guid": "2a96ea00-e83b-4f54-97ab-b97d6bea89d8",
                "language": "sql"
            },
            "outputs": [
                {
                    "output_type": "display_data",
                    "data": {
                        "text/html": "(1 row affected)"
                    },
                    "metadata": {}
                },
                {
                    "output_type": "display_data",
                    "data": {
                        "text/html": "Total execution time: 00:00:00.005"
                    },
                    "metadata": {}
                },
                {
                    "output_type": "execute_result",
                    "execution_count": 13,
                    "data": {
                        "application/vnd.dataresource+json": {
                            "schema": {
                                "fields": [
                                    {
                                        "name": "MinOrderTotal"
                                    },
                                    {
                                        "name": "MaxOrderTotal"
                                    },
                                    {
                                        "name": "AvgOrderTotal"
                                    },
                                    {
                                        "name": "TotalOrderValue"
                                    },
                                    {
                                        "name": "StdDevOrderTotal"
                                    }
                                ]
                            },
                            "data": [
                                {
                                    "MinOrderTotal": "39,00",
                                    "MaxOrderTotal": "3518,00",
                                    "AvgOrderTotal": "1317,82",
                                    "TotalOrderValue": "65891,00",
                                    "StdDevOrderTotal": "797,812869727006"
                                }
                            ]
                        },
                        "text/html": "<table><tr><th>MinOrderTotal</th><th>MaxOrderTotal</th><th>AvgOrderTotal</th><th>TotalOrderValue</th><th>StdDevOrderTotal</th></tr><tr><td>39,00</td><td>3518,00</td><td>1317,82</td><td>65891,00</td><td>797,812869727006</td></tr></table>"
                    },
                    "metadata": {}
                }
            ],
            "execution_count": 13
        },
        {
            "cell_type": "code",
            "source": [
                "--Estatísticas descritivas para os valores numéricos\n",
                "--Tabela Order_Product - Variável: Quantity\n",
                "SELECT \n",
                "    MIN(Quantity) AS MinQuantity,\n",
                "    MAX(Quantity) AS MaxQuantity,\n",
                "    AVG(Quantity) AS AvgQuantity,\n",
                "    SUM(Quantity) AS TotalQuantitySold,\n",
                "    STDEV(Quantity) AS StdDevQuantity\n",
                "FROM KCC.dbo.Order_Product;\n",
                ""
            ],
            "metadata": {
                "azdata_cell_guid": "3b3d431f-6bdc-40a9-be5e-a96f844781a4",
                "language": "sql"
            },
            "outputs": [
                {
                    "output_type": "display_data",
                    "data": {
                        "text/html": "(1 row affected)"
                    },
                    "metadata": {}
                },
                {
                    "output_type": "display_data",
                    "data": {
                        "text/html": "Total execution time: 00:00:00.003"
                    },
                    "metadata": {}
                },
                {
                    "output_type": "execute_result",
                    "execution_count": 14,
                    "data": {
                        "application/vnd.dataresource+json": {
                            "schema": {
                                "fields": [
                                    {
                                        "name": "MinQuantity"
                                    },
                                    {
                                        "name": "MaxQuantity"
                                    },
                                    {
                                        "name": "AvgQuantity"
                                    },
                                    {
                                        "name": "TotalQuantitySold"
                                    },
                                    {
                                        "name": "StdDevQuantity"
                                    }
                                ]
                            },
                            "data": [
                                {
                                    "MinQuantity": "11",
                                    "MaxQuantity": "245",
                                    "AvgQuantity": "131",
                                    "TotalQuantitySold": "17249",
                                    "StdDevQuantity": "68,90678684315185"
                                }
                            ]
                        },
                        "text/html": "<table><tr><th>MinQuantity</th><th>MaxQuantity</th><th>AvgQuantity</th><th>TotalQuantitySold</th><th>StdDevQuantity</th></tr><tr><td>11</td><td>245</td><td>131</td><td>17249</td><td>68,90678684315185</td></tr></table>"
                    },
                    "metadata": {}
                }
            ],
            "execution_count": 14
        },
        {
            "cell_type": "code",
            "source": [
                "--Estatísticas descritivas para os valores numéricos\n",
                "--Tabela Product - Variáveis: RevenuePerCookie\n",
                "SELECT \n",
                "    MIN(RevenuePerCookie) AS MinRevenue,\n",
                "    MAX(RevenuePerCookie) AS MaxRevenue,\n",
                "    AVG(RevenuePerCookie) AS AvgRevenue,\n",
                "    SUM(RevenuePerCookie) AS TotalRevenue,\n",
                "    STDEV(RevenuePerCookie) AS StdDevRevenue\n",
                "FROM KCC.dbo.Product;\n",
                "\n",
                "\n",
                "--Tabela Product - Variáveis: CostPerCookie\n",
                "SELECT \n",
                "    MIN(CostPerCookie) AS MinCost,\n",
                "    MAX(CostPerCookie) AS MaxCost,\n",
                "    AVG(CostPerCookie) AS AvgCost,\n",
                "    SUM(CostPerCookie) AS TotalCost,\n",
                "    STDEV(CostPerCookie) AS StdDevCost\n",
                "FROM KCC.dbo.Product;\n",
                "\n",
                ""
            ],
            "metadata": {
                "azdata_cell_guid": "7195712b-6211-4480-aae9-89e4448cfe38",
                "language": "sql"
            },
            "outputs": [
                {
                    "output_type": "display_data",
                    "data": {
                        "text/html": "(1 row affected)"
                    },
                    "metadata": {}
                },
                {
                    "output_type": "display_data",
                    "data": {
                        "text/html": "(1 row affected)"
                    },
                    "metadata": {}
                },
                {
                    "output_type": "display_data",
                    "data": {
                        "text/html": "Total execution time: 00:00:00.014"
                    },
                    "metadata": {}
                },
                {
                    "output_type": "execute_result",
                    "execution_count": 15,
                    "data": {
                        "application/vnd.dataresource+json": {
                            "schema": {
                                "fields": [
                                    {
                                        "name": "MinRevenue"
                                    },
                                    {
                                        "name": "MaxRevenue"
                                    },
                                    {
                                        "name": "AvgRevenue"
                                    },
                                    {
                                        "name": "TotalRevenue"
                                    },
                                    {
                                        "name": "StdDevRevenue"
                                    }
                                ]
                            },
                            "data": [
                                {
                                    "MinRevenue": "1,00",
                                    "MaxRevenue": "6,00",
                                    "AvgRevenue": "4,00",
                                    "TotalRevenue": "24,00",
                                    "StdDevRevenue": "1,7888543819998317"
                                }
                            ]
                        },
                        "text/html": "<table><tr><th>MinRevenue</th><th>MaxRevenue</th><th>AvgRevenue</th><th>TotalRevenue</th><th>StdDevRevenue</th></tr><tr><td>1,00</td><td>6,00</td><td>4,00</td><td>24,00</td><td>1,7888543819998317</td></tr></table>"
                    },
                    "metadata": {}
                },
                {
                    "output_type": "execute_result",
                    "execution_count": 15,
                    "data": {
                        "application/vnd.dataresource+json": {
                            "schema": {
                                "fields": [
                                    {
                                        "name": "MinCost"
                                    },
                                    {
                                        "name": "MaxCost"
                                    },
                                    {
                                        "name": "AvgCost"
                                    },
                                    {
                                        "name": "TotalCost"
                                    },
                                    {
                                        "name": "StdDevCost"
                                    }
                                ]
                            },
                            "data": [
                                {
                                    "MinCost": "0,50",
                                    "MaxCost": "2,75",
                                    "AvgCost": "1,70",
                                    "TotalCost": "10,20",
                                    "StdDevCost": "0,7905694150420949"
                                }
                            ]
                        },
                        "text/html": "<table><tr><th>MinCost</th><th>MaxCost</th><th>AvgCost</th><th>TotalCost</th><th>StdDevCost</th></tr><tr><td>0,50</td><td>2,75</td><td>1,70</td><td>10,20</td><td>0,7905694150420949</td></tr></table>"
                    },
                    "metadata": {}
                }
            ],
            "execution_count": 15
        },
        {
            "cell_type": "markdown",
            "source": [
                "## **Respondendo as Perguntas de Negócios**\n",
                "\n",
                "### **Pergunta 1: Quem são os 3 melhores clientes da empresa e por quê?**"
            ],
            "metadata": {
                "azdata_cell_guid": "9ebc10e4-42ec-4e76-ae65-13bcc7679ad0"
            },
            "attachments": {}
        },
        {
            "cell_type": "code",
            "source": [
                "-- Selecionando os 3 melhores clientes de acordo com o total de gastos\n",
                "SELECT TOP 3 \n",
                "    C.CustomerID, \n",
                "    C.CustomerName, \n",
                "    SUM(O.OrderTotal) AS TotalSpent,\n",
                "    COUNT(O.OrderID) AS TotalOrders\n",
                "FROM KCC.dbo.Customers C\n",
                "INNER JOIN KCC.dbo.Orders O ON C.CustomerID = O.CustomerID\n",
                "GROUP BY C.CustomerID, C.CustomerName\n",
                "ORDER BY TotalSpent DESC;\n",
                "\n",
                ""
            ],
            "metadata": {
                "azdata_cell_guid": "8baec1b4-d442-4c84-a1de-944c4dbb6789",
                "language": "sql"
            },
            "outputs": [
                {
                    "output_type": "display_data",
                    "data": {
                        "text/html": "(3 rows affected)"
                    },
                    "metadata": {}
                },
                {
                    "output_type": "display_data",
                    "data": {
                        "text/html": "Total execution time: 00:00:00.004"
                    },
                    "metadata": {}
                },
                {
                    "output_type": "execute_result",
                    "execution_count": 20,
                    "data": {
                        "application/vnd.dataresource+json": {
                            "schema": {
                                "fields": [
                                    {
                                        "name": "CustomerID"
                                    },
                                    {
                                        "name": "CustomerName"
                                    },
                                    {
                                        "name": "TotalSpent"
                                    },
                                    {
                                        "name": "TotalOrders"
                                    }
                                ]
                            },
                            "data": [
                                {
                                    "CustomerID": "5",
                                    "CustomerName": "Park & Shop Convenience Stores",
                                    "TotalSpent": "17435,00",
                                    "TotalOrders": "12"
                                },
                                {
                                    "CustomerID": "2",
                                    "CustomerName": "ABC Groceries",
                                    "TotalSpent": "14870,00",
                                    "TotalOrders": "9"
                                },
                                {
                                    "CustomerID": "3",
                                    "CustomerName": "ACME Bites",
                                    "TotalSpent": "14706,00",
                                    "TotalOrders": "10"
                                }
                            ]
                        },
                        "text/html": "<table><tr><th>CustomerID</th><th>CustomerName</th><th>TotalSpent</th><th>TotalOrders</th></tr><tr><td>5</td><td>Park &amp; Shop Convenience Stores</td><td>17435,00</td><td>12</td></tr><tr><td>2</td><td>ABC Groceries</td><td>14870,00</td><td>9</td></tr><tr><td>3</td><td>ACME Bites</td><td>14706,00</td><td>10</td></tr></table>"
                    },
                    "metadata": {}
                }
            ],
            "execution_count": 20
        },
        {
            "cell_type": "markdown",
            "source": [
                "## **Respondendo as Perguntas de Negócios**\n",
                "\n",
                "### **Pergunta 2: Quais são os melhores e piores produtos da empresa?**"
            ],
            "metadata": {
                "azdata_cell_guid": "4003924b-9896-472c-bb0a-455c0a77cb47"
            },
            "attachments": {}
        },
        {
            "cell_type": "code",
            "source": [
                "-- Identificando os produtos mais vendidos pelo soma das quantidades (Quantity)\n",
                "SELECT TOP 6 \n",
                "    P.CookieID, \n",
                "    P.CookieName, \n",
                "    SUM(OP.Quantity) AS TotalSold\n",
                "FROM KCC.dbo.Product P\n",
                "INNER JOIN KCC.dbo.Order_Product OP ON P.CookieID = OP.CookieID\n",
                "GROUP BY P.CookieID, P.CookieName\n",
                "ORDER BY TotalSold DESC;\n",
                ""
            ],
            "metadata": {
                "azdata_cell_guid": "0b3e44ef-5ac1-429f-abae-8525710e0295",
                "language": "sql"
            },
            "outputs": [
                {
                    "output_type": "display_data",
                    "data": {
                        "text/html": "(6 rows affected)"
                    },
                    "metadata": {}
                },
                {
                    "output_type": "display_data",
                    "data": {
                        "text/html": "Total execution time: 00:00:00.001"
                    },
                    "metadata": {}
                },
                {
                    "output_type": "execute_result",
                    "execution_count": 24,
                    "data": {
                        "application/vnd.dataresource+json": {
                            "schema": {
                                "fields": [
                                    {
                                        "name": "CookieID"
                                    },
                                    {
                                        "name": "CookieName"
                                    },
                                    {
                                        "name": "TotalSold"
                                    }
                                ]
                            },
                            "data": [
                                {
                                    "CookieID": "2",
                                    "CookieName": "Fortune Cookie ",
                                    "TotalSold": "3468"
                                },
                                {
                                    "CookieID": "5",
                                    "CookieName": "Sugar ",
                                    "TotalSold": "3110"
                                },
                                {
                                    "CookieID": "1",
                                    "CookieName": "Chocolate Chip ",
                                    "TotalSold": "2937"
                                },
                                {
                                    "CookieID": "4",
                                    "CookieName": "Snickerdoodle ",
                                    "TotalSold": "2751"
                                },
                                {
                                    "CookieID": "3",
                                    "CookieName": "Oatmeal Raisin ",
                                    "TotalSold": "2494"
                                },
                                {
                                    "CookieID": "6",
                                    "CookieName": "White Chocolate Macadamia Nut ",
                                    "TotalSold": "2489"
                                }
                            ]
                        },
                        "text/html": "<table><tr><th>CookieID</th><th>CookieName</th><th>TotalSold</th></tr><tr><td>2</td><td>Fortune Cookie </td><td>3468</td></tr><tr><td>5</td><td>Sugar </td><td>3110</td></tr><tr><td>1</td><td>Chocolate Chip </td><td>2937</td></tr><tr><td>4</td><td>Snickerdoodle </td><td>2751</td></tr><tr><td>3</td><td>Oatmeal Raisin </td><td>2494</td></tr><tr><td>6</td><td>White Chocolate Macadamia Nut </td><td>2489</td></tr></table>"
                    },
                    "metadata": {}
                }
            ],
            "execution_count": 24
        },
        {
            "cell_type": "code",
            "source": [
                "-- Identificando os produtos menos vendidos\n",
                "SELECT TOP 6 \n",
                "    P.CookieID, \n",
                "    P.CookieName, \n",
                "    SUM(OP.Quantity) AS TotalSold\n",
                "FROM KCC.dbo.Product P\n",
                "INNER JOIN KCC.dbo.Order_Product OP ON P.CookieID = OP.CookieID\n",
                "GROUP BY P.CookieID, P.CookieName\n",
                "ORDER BY TotalSold ASC;\n",
                ""
            ],
            "metadata": {
                "azdata_cell_guid": "a8614ef7-bf9c-47cb-adcf-f1fc96802bbc",
                "language": "sql"
            },
            "outputs": [
                {
                    "output_type": "display_data",
                    "data": {
                        "text/html": "(6 rows affected)"
                    },
                    "metadata": {}
                },
                {
                    "output_type": "display_data",
                    "data": {
                        "text/html": "Total execution time: 00:00:00.005"
                    },
                    "metadata": {}
                },
                {
                    "output_type": "execute_result",
                    "execution_count": 26,
                    "data": {
                        "application/vnd.dataresource+json": {
                            "schema": {
                                "fields": [
                                    {
                                        "name": "CookieID"
                                    },
                                    {
                                        "name": "CookieName"
                                    },
                                    {
                                        "name": "TotalSold"
                                    }
                                ]
                            },
                            "data": [
                                {
                                    "CookieID": "6",
                                    "CookieName": "White Chocolate Macadamia Nut ",
                                    "TotalSold": "2489"
                                },
                                {
                                    "CookieID": "3",
                                    "CookieName": "Oatmeal Raisin ",
                                    "TotalSold": "2494"
                                },
                                {
                                    "CookieID": "4",
                                    "CookieName": "Snickerdoodle ",
                                    "TotalSold": "2751"
                                },
                                {
                                    "CookieID": "1",
                                    "CookieName": "Chocolate Chip ",
                                    "TotalSold": "2937"
                                },
                                {
                                    "CookieID": "5",
                                    "CookieName": "Sugar ",
                                    "TotalSold": "3110"
                                },
                                {
                                    "CookieID": "2",
                                    "CookieName": "Fortune Cookie ",
                                    "TotalSold": "3468"
                                }
                            ]
                        },
                        "text/html": "<table><tr><th>CookieID</th><th>CookieName</th><th>TotalSold</th></tr><tr><td>6</td><td>White Chocolate Macadamia Nut </td><td>2489</td></tr><tr><td>3</td><td>Oatmeal Raisin </td><td>2494</td></tr><tr><td>4</td><td>Snickerdoodle </td><td>2751</td></tr><tr><td>1</td><td>Chocolate Chip </td><td>2937</td></tr><tr><td>5</td><td>Sugar </td><td>3110</td></tr><tr><td>2</td><td>Fortune Cookie </td><td>3468</td></tr></table>"
                    },
                    "metadata": {}
                }
            ],
            "execution_count": 26
        },
        {
            "cell_type": "markdown",
            "source": [
                "## **Respondendo as Perguntas de Negócios**\n",
                "\n",
                "### **Pergunta 3: Existe sazonalidade nas vendas?**"
            ],
            "metadata": {
                "azdata_cell_guid": "b96ca831-4924-4e76-bca0-e02a6a3589f3"
            },
            "attachments": {}
        },
        {
            "cell_type": "code",
            "source": [
                "-- Analisando a distribuição de pedidos por mês e valor total arrecadado\n",
                "SELECT \n",
                "    MONTH(OrderDate) AS Month, \n",
                "    COUNT(OrderID) AS TotalOrders, \n",
                "    SUM(OrderTotal) AS TotalRevenue\n",
                "FROM KCC.dbo.Orders\n",
                "GROUP BY MONTH(OrderDate)\n",
                "ORDER BY Month;\n",
                ""
            ],
            "metadata": {
                "azdata_cell_guid": "ad23dd51-911e-4d0f-bfa8-44d69abe5335",
                "language": "sql"
            },
            "outputs": [
                {
                    "output_type": "display_data",
                    "data": {
                        "text/html": "(3 rows affected)"
                    },
                    "metadata": {}
                },
                {
                    "output_type": "display_data",
                    "data": {
                        "text/html": "Total execution time: 00:00:00.002"
                    },
                    "metadata": {}
                },
                {
                    "output_type": "execute_result",
                    "execution_count": 28,
                    "data": {
                        "application/vnd.dataresource+json": {
                            "schema": {
                                "fields": [
                                    {
                                        "name": "Month"
                                    },
                                    {
                                        "name": "TotalOrders"
                                    },
                                    {
                                        "name": "TotalRevenue"
                                    }
                                ]
                            },
                            "data": [
                                {
                                    "Month": "1",
                                    "TotalOrders": "19",
                                    "TotalRevenue": "25021,00"
                                },
                                {
                                    "Month": "2",
                                    "TotalOrders": "22",
                                    "TotalRevenue": "29972,00"
                                },
                                {
                                    "Month": "3",
                                    "TotalOrders": "9",
                                    "TotalRevenue": "10898,00"
                                }
                            ]
                        },
                        "text/html": "<table><tr><th>Month</th><th>TotalOrders</th><th>TotalRevenue</th></tr><tr><td>1</td><td>19</td><td>25021,00</td></tr><tr><td>2</td><td>22</td><td>29972,00</td></tr><tr><td>3</td><td>9</td><td>10898,00</td></tr></table>"
                    },
                    "metadata": {}
                }
            ],
            "execution_count": 28
        },
        {
            "cell_type": "markdown",
            "source": [
                "## **Respondendo as Perguntas de Negócios**\n",
                "\n",
                "### **Pergunta 4: Quais produtos devem ter aumento de preço e qual seria o novo preço?**"
            ],
            "metadata": {
                "azdata_cell_guid": "82785356-b9aa-4374-8588-97a4493b31b6"
            },
            "attachments": {}
        },
        {
            "cell_type": "code",
            "source": [
                "-- Recomendando produtos com base no custo e na receita por unidades vendidas\n",
                "SELECT \n",
                "    P.CookieID, \n",
                "    P.CookieName, \n",
                "    SUM(OP.Quantity) AS TotalSold, \n",
                "    P.RevenuePerCookie, \n",
                "    P.CostPerCookie,\n",
                "    (P.RevenuePerCookie - P.CostPerCookie) AS ProfitPerUnit,\n",
                "    SUM(OP.Quantity) * (P.RevenuePerCookie - P.CostPerCookie) AS TotalProfit\n",
                "FROM KCC.dbo.Product P\n",
                "INNER JOIN KCC.dbo.Order_Product OP ON P.CookieID = OP.CookieID\n",
                "GROUP BY P.CookieID, P.CookieName, P.RevenuePerCookie, P.CostPerCookie\n",
                "ORDER BY TotalProfit DESC;\n",
                ""
            ],
            "metadata": {
                "azdata_cell_guid": "06e06651-7ed8-492d-92bd-fd3235d9c6fd",
                "language": "sql"
            },
            "outputs": [
                {
                    "output_type": "display_data",
                    "data": {
                        "text/html": "(6 rows affected)"
                    },
                    "metadata": {}
                },
                {
                    "output_type": "display_data",
                    "data": {
                        "text/html": "Total execution time: 00:00:00.009"
                    },
                    "metadata": {}
                },
                {
                    "output_type": "execute_result",
                    "execution_count": 29,
                    "data": {
                        "application/vnd.dataresource+json": {
                            "schema": {
                                "fields": [
                                    {
                                        "name": "CookieID"
                                    },
                                    {
                                        "name": "CookieName"
                                    },
                                    {
                                        "name": "TotalSold"
                                    },
                                    {
                                        "name": "RevenuePerCookie"
                                    },
                                    {
                                        "name": "CostPerCookie"
                                    },
                                    {
                                        "name": "ProfitPerUnit"
                                    },
                                    {
                                        "name": "TotalProfit"
                                    }
                                ]
                            },
                            "data": [
                                {
                                    "CookieID": "1",
                                    "CookieName": "Chocolate Chip ",
                                    "TotalSold": "2937",
                                    "RevenuePerCookie": "5,00",
                                    "CostPerCookie": "2,00",
                                    "ProfitPerUnit": "3,00",
                                    "TotalProfit": "8811,00"
                                },
                                {
                                    "CookieID": "6",
                                    "CookieName": "White Chocolate Macadamia Nut ",
                                    "TotalSold": "2489",
                                    "RevenuePerCookie": "6,00",
                                    "CostPerCookie": "2,75",
                                    "ProfitPerUnit": "3,25",
                                    "TotalProfit": "8089,25"
                                },
                                {
                                    "CookieID": "3",
                                    "CookieName": "Oatmeal Raisin ",
                                    "TotalSold": "2494",
                                    "RevenuePerCookie": "5,00",
                                    "CostPerCookie": "2,20",
                                    "ProfitPerUnit": "2,80",
                                    "TotalProfit": "6983,20"
                                },
                                {
                                    "CookieID": "4",
                                    "CookieName": "Snickerdoodle ",
                                    "TotalSold": "2751",
                                    "RevenuePerCookie": "4,00",
                                    "CostPerCookie": "1,50",
                                    "ProfitPerUnit": "2,50",
                                    "TotalProfit": "6877,50"
                                },
                                {
                                    "CookieID": "5",
                                    "CookieName": "Sugar ",
                                    "TotalSold": "3110",
                                    "RevenuePerCookie": "3,00",
                                    "CostPerCookie": "1,25",
                                    "ProfitPerUnit": "1,75",
                                    "TotalProfit": "5442,50"
                                },
                                {
                                    "CookieID": "2",
                                    "CookieName": "Fortune Cookie ",
                                    "TotalSold": "3468",
                                    "RevenuePerCookie": "1,00",
                                    "CostPerCookie": "0,50",
                                    "ProfitPerUnit": "0,50",
                                    "TotalProfit": "1734,00"
                                }
                            ]
                        },
                        "text/html": "<table><tr><th>CookieID</th><th>CookieName</th><th>TotalSold</th><th>RevenuePerCookie</th><th>CostPerCookie</th><th>ProfitPerUnit</th><th>TotalProfit</th></tr><tr><td>1</td><td>Chocolate Chip </td><td>2937</td><td>5,00</td><td>2,00</td><td>3,00</td><td>8811,00</td></tr><tr><td>6</td><td>White Chocolate Macadamia Nut </td><td>2489</td><td>6,00</td><td>2,75</td><td>3,25</td><td>8089,25</td></tr><tr><td>3</td><td>Oatmeal Raisin </td><td>2494</td><td>5,00</td><td>2,20</td><td>2,80</td><td>6983,20</td></tr><tr><td>4</td><td>Snickerdoodle </td><td>2751</td><td>4,00</td><td>1,50</td><td>2,50</td><td>6877,50</td></tr><tr><td>5</td><td>Sugar </td><td>3110</td><td>3,00</td><td>1,25</td><td>1,75</td><td>5442,50</td></tr><tr><td>2</td><td>Fortune Cookie </td><td>3468</td><td>1,00</td><td>0,50</td><td>0,50</td><td>1734,00</td></tr></table>"
                    },
                    "metadata": {}
                }
            ],
            "execution_count": 29
        },
        {
            "cell_type": "markdown",
            "source": [
                "## **Respondendo às Perguntas de Negócios e sugestões de melhorias**\n",
                "\n",
                " ### **A consulta SQL retornou os três melhores clientes, ordenados pelo total gasto (TotalSpent):**\n",
                "\n",
                "1. **Park & Shop Convenience:** 17435,00 (12 pedidos)\n",
                "\n",
                "2. **ABC Groceries:** 14870,00 (9 pedidos)\n",
                "\n",
                "3. **ACME Bites:** 14706,00 (10 pedid\n",
                "\n",
                "### **Sugestões de Ações Personalizadas:**\n",
                "\n",
                "\n",
                "**1. Park & Shop Convenience:**\n",
                "\n",
                "Campanhas: Criar uma campanha de marketing focada no excelente custo-benefício dos biscoitos, com destaque para promoções e ofertas especiais que realcem a relação entre qualidade e preço.\n",
                "\n",
                "Comunicação Direta com Foco no Preço: Utilizar e-mails e outras formas de comunicação que enfatizem o valor acessível dos produtos, com promoções e pacotes especiais.\n",
                "\n",
                "\n",
                "**2. ABC Groceries:**\n",
                "\n",
                "E-mail Marketing Direto: Enviar e-mails concisos e informativos, com ofertas especiais e novidades, evitando mensagens muito longas.\n",
                "\n",
                "Respostas Rápidas e Objetivas: Treinar a equipe para responder rapidamente aos contatos deste cliente com informações precisas e concisas, respeitando seu tempo.\n",
                "\n",
                "\n",
                "**3. ACME Bites:**\n",
                "\n",
                "Presente Personalizado: Enviar um pequeno presente com temática de rosas, demonstrando um cuidado especial e um entendimento profundo das preferências do cliente.\n",
                "\n",
                "Comunicação Luxuosa e Refinada: Utilizar e-mails com design elegante e linguagem sofisticada, refletindo o bom gosto do cliente.\n",
                "\n",
                "\n",
                "\n",
                ""
            ],
            "metadata": {
                "azdata_cell_guid": "fcb33d20-4ab3-4bc2-bdeb-77bfc53be149"
            },
            "attachments": {}
        },
        {
            "cell_type": "markdown",
            "source": [
                "### **Com os resultados das consultas SQL, podemos responder à segunda pergunta de negócio e propor novas ideias de produtos.**\n",
                "\n",
                "### **Resultados:**\n",
                "\n",
                "**Melhores Produtos:** Os três melhores produtos, com base na soma das quantidades vendidas (TotalSold), são:\n",
                "\n",
                "1. Fortune Cookie: 3468\n",
                "\n",
                "2. Sugar Cookie: 3118\n",
                "\n",
                "3. Chocolate Chip: 2937\n",
                "\n",
                "**Piores Produtos:** Os três piores produtos são:\n",
                "\n",
                "1. White Chocolate Macadamia: 2489\n",
                "\n",
                "2. Oatmeal Raisin: 2494\n",
                "\n",
                "3. Snickerdoodle: 2751\n",
                "\n",
                "### **Insights:**\n",
                "\n",
                "**Preferências do Consumidor:** Os resultados indicam uma clara preferência por sabores tradicionais e populares, como Fortune Cookie e Sugar Cookie. Chocolate Chip também se destaca, mostrando a força de um clássico.\n",
                "\n",
                "**Desempenho Fraco:** Os três piores produtos têm vendas significativamente menores que os melhores, indicando a necessidade de mudanças.\n",
                "\n",
                "**Oportunidade de Inovação:** A baixa performance dos piores produtos representa uma excelente oportunidade para a KCC investir em novos sabores que se alinhem às preferências do público e substituam os produtos menos vendidos.\n",
                "\n",
                "### **Recomendações de Novos Sabores:**\n",
                "\n",
                "Para substituir os piores produtos, recomendo focar em inovação e tendências, sem perder de vista a popularidade dos melhores:\n",
                "\n",
                "**Substituindo White Chocolate Macadamia:** Este sabor, apesar de sofisticado, pode não ter atingido o público-alvo. Considerando a preferência por sabores mais tradicionais, sugiro experimentar um novo sabor com toque de chocolate mais intenso e popular, como um chocolate amargo com castanhas, ou um biscoito com gotas de chocolate meio amargo e pedaços de brownie.\n",
                "\n",
                "**Substituindo Oatmeal Raisin:** O sabor de aveia com passas é muito específico. Para atingir um público maior, sugiro novos sabores com aveia, mas com outras combinações mais atraentes. Uma sugestão é um biscoito de aveia com pedaços de maçã e canela, ou um biscoito de aveia com chocolate branco e frutas secas.\n",
                "\n",
                "**Substituindo Snickerdoodle:** Este sabor também é específico, e menos popular que outros. Uma possibilidade seria um sabor semelhante, mas com um toque diferente, como um biscoito amanteigado com pedaços de nozes, ou um biscoito com aroma de baunilha e raspas de limão.\n",
                "\n",
                "**Considerações Adicionais:**\n",
                "\n",
                "**Pesquisa de Mercado:** É fundamental realizar pesquisas de mercado para validar as sugestões de novos sabores e entender as preferências do público-alvo.\n",
                "\n",
                "**Testes:** Antes do lançamento oficial, é crucial realizar testes com os novos sabores para coletar feedbacks e fazer ajustes antes da produção em larga escala.\n",
                "\n",
                "**Marketing:** Uma campanha de marketing eficaz é fundamental para o sucesso dos novos produtos.Ótimo! Com os resultados das consultas SQL, podemos responder à segunda pergunta de negócio e propor novas ideias de produtos.\n",
                ""
            ],
            "metadata": {
                "azdata_cell_guid": "be15fb7f-a55e-44a5-8f0e-c58ba1220968"
            },
            "attachments": {}
        },
        {
            "cell_type": "markdown",
            "source": [
                "### **A consulta SQL, que mostra a distribuição de pedidos e receita por mês, ajuda na identificação da sazonalidade e propor campanhas de marketing.**\n",
                "\n",
                "### **Insights:**\n",
                "\n",
                "**Mês 2 (Fevereiro):** Apresenta o maior número de pedidos (22) e a maior receita (29972,00).\n",
                "\n",
                "**Mês 1 (Janeiro):** Apresenta um número considerável de pedidos (19) e uma receita alta (25021,00).\n",
                "\n",
                "**Mês 3 (Março):** Apresenta o menor número de pedidos (9) e a menor receita (10898,00).\n",
                "\n",
                "### **Sazonalidade:**\n",
                "\n",
                "Os dados sugerem uma clara sazonalidade nas vendas, com um pico em fevereiro e uma queda significativa em março. Para confirmar essa tendência, seriam necessários dados de mais meses, idealmente um ano inteiro. No entanto, baseado nos 3 meses apresentados, podemos assumir que há uma forte influência sazonal nas vendas.\n",
                "\n",
                "### **Campanhas de Marketing:**\n",
                "\n",
                "Considerando a sazonalidade observada, sugiro as seguintes campanhas de marketing:\n",
                "\n",
                "**Campanha de Impulso em Março: Em março**, as vendas caíram drasticamente. Uma campanha de marketing agressiva nesse mês, focando em promoções e ofertas especiais, pode impulsionar as vendas e evitar uma queda tão significativa. Considerar ofertas promocionais, como descontos, brindes ou produtos em combo.\n",
                "\n",
                "**Campanha de Fidelização em Janeiro e Fevereiro:** Considerando que Janeiro e Fevereiro são meses de alta venda, aproveitar a oportunidade para reforçar o relacionamento com os clientes e incentivar compras contínuas. Programas de fidelidade, ofertas personalizadas e conteúdos relevantes para fortalecer a marca podem ser interessantes.\n",
                "\n",
                ""
            ],
            "metadata": {
                "azdata_cell_guid": "a3d59577-250a-473b-8edc-c08c7f8d9b4e"
            },
            "attachments": {}
        },
        {
            "cell_type": "markdown",
            "source": [
                "### **Vamos analisar os resultados da consulta SQL para determinar quais produtos devem ter o preço aumentado e qual o novo preço ideal.**\n",
                "\n",
                "### **Análise:**\n",
                "\n",
                "A decisão de aumentar o preço de um produto deve considerar diversos fatores:\n",
                "\n",
                "**Lucratividade:** Produtos com alta lucratividade por unidade (ProfitPerUnit) são candidatos ideais para aumento de preço, pois a margem de lucro permite absorver uma possível redução nas vendas.\n",
                "\n",
                "**Demanda:** Produtos com alta demanda (TotalSold) podem suportar um pequeno aumento de preço sem afetar muito as vendas. No entanto, é crucial analisar a elasticidade-preço da demanda para cada produto.\n",
                "\n",
                "\n",
                "### **Recomendações:**\n",
                "\n",
                "Considerando os resultados, sugiro aumentar o preço dos seguintes produtos:\n",
                "\n",
                "**Chocolate Chip:** Este produto apresenta um bom equilíbrio entre alta demanda (TotalSold: 2937) e alta lucratividade (ProfitPerUnit: 3,00). Um aumento de preço moderado, de 50 centavos, seria uma boa opção. \n",
                "- **Novo preço sugerido:** R$5,50. (Este aumento geraria um aumento significativo no lucro total, e não afetaria muito a demanda considerando seu bom desempenho atual.)\n",
                "\n",
                "**White Chocolate Macadamia:** Apesar de ter vendas menores, este produto tem alta lucratividade (ProfitPerUnit: 3,25). Um aumento de preço pequeno, de R$ 0.50, é razoável para este produto.\n",
                "\n",
                "- **Novo Preço Sugerido:** R$ 6..50   (Aumento moderado no lucro)\n",
                "\n",
                "**Oatmeal Raisin:** Este produto apresenta uma lucratividade intermediária (ProfitPerUnit: 2,80), e vendas relativamente baixas. Um aumento de preço pode ser arriscado para este produto, pois o retorno pode ser mínimo. Por isso, deve-se avaliar cuidadosamente a receptividade do público a um aumento de preço, e o impacto que o aumento poderia causar na demanda. \n",
                "\n",
                "- **Novo preço sugerido:** R$ 5.50  (Um aumento pequeno, de 50 centavos, pode ser testado. Um aumento marginal no lucro, devendo ser monitorado de perto.)"
            ],
            "metadata": {
                "azdata_cell_guid": "c031e710-ada1-4f37-8ac0-77b0aa0cc647"
            },
            "attachments": {}
        }
    ]
}